{
 "cells": [
  {
   "cell_type": "code",
   "execution_count": 1,
   "metadata": {},
   "outputs": [
    {
     "name": "stderr",
     "output_type": "stream",
     "text": [
      "C:\\ProgramData\\Anaconda3\\lib\\site-packages\\sklearn\\cross_validation.py:41: DeprecationWarning: This module was deprecated in version 0.18 in favor of the model_selection module into which all the refactored classes and functions are moved. Also note that the interface of the new CV iterators are different from that of this module. This module will be removed in 0.20.\n",
      "  \"This module will be removed in 0.20.\", DeprecationWarning)\n"
     ]
    }
   ],
   "source": [
    "import requests\n",
    "import zipfile\n",
    "import pandas as pd\n",
    "import logging\n",
    "import numpy as np\n",
    "import os\n",
    "import shutil\n",
    "import matplotlib.pyplot as plt\n",
    "import glob\n",
    "import boto\n",
    "from boto.s3.connection import Location\n",
    "from boto.s3.key import Key\n",
    "import time\n",
    "import datetime\n",
    "from sklearn import metrics\n",
    "from sklearn import svm\n",
    "from statsmodels.formula.api import logit, probit, poisson, ols\n",
    "from sklearn.linear_model import LogisticRegression\n",
    "import statsmodels.api as sm\n",
    "from sklearn.cross_validation import train_test_split\n",
    "from sklearn.metrics import confusion_matrix\n",
    "from sklearn.metrics import roc_curve\n",
    "from sklearn.cross_validation  import cross_val_score\n",
    "from configparser import ConfigParser"
   ]
  },
  {
   "cell_type": "code",
   "execution_count": null,
   "metadata": {},
   "outputs": [],
   "source": [
    "    config = ConfigParser()\n",
    "\n",
    "    config_file = os.path.join(os.path.dirname('__file__'), 'config.ini')\n",
    "    config.read(config_file)\n",
    "    default = config['user.data']\n",
    "    user=default['username']\n",
    "    passwd=default['password']\n",
    "    trainQ=default['trainQtr']\n",
    "    testQ=default['testQtr']\n",
    "\n",
    "    print(\"USERNAME=\" + user)\n",
    "    print(\"PASSWORD=\" + passwd)\n",
    "    print(\"TRAINQUARTER=\" + (trainQ))\n",
    "    print(\"TESTQUARTER=\" + (testQ))"
   ]
  },
  {
   "cell_type": "code",
   "execution_count": null,
   "metadata": {},
   "outputs": [],
   "source": [
    "df=pd.read_csv('trainData_' + trainQ + '.csv')\n",
    "traincols=['MONTHLY_REPORTING_PERIOD','CURRENT_ACTUAL_UPB','LOAN_AGE',\n",
    "           'REM_MTH_LEGAL_MATURITY','CURRENT_INTEREST_DATE','CURRENT_DEFERRED_UPB']\n",
    "y_train=df['DELINQUENT']\n",
    "Train_DF=df[traincols]\n",
    "\n"
   ]
  },
  {
   "cell_type": "code",
   "execution_count": null,
   "metadata": {},
   "outputs": [],
   "source": [
    "test_df=pd.read_csv('testData_' + testQ + '.csv')\n",
    "testcols = ['MONTHLY_REPORTING_PERIOD', 'CURRENT_ACTUAL_UPB', 'LOAN_AGE',\n",
    "                'REM_MTH_LEGAL_MATURITY', 'CURRENT_INTEREST_DATE', 'CURRENT_DEFERRED_UPB']\n",
    "y_test = test_df['DELINQUENT']\n",
    "Test_DF = test_df[testcols]"
   ]
  }
 ],
 "metadata": {
  "kernelspec": {
   "display_name": "Python 3",
   "language": "python",
   "name": "python3"
  },
  "language_info": {
   "codemirror_mode": {
    "name": "ipython",
    "version": 3
   },
   "file_extension": ".py",
   "mimetype": "text/x-python",
   "name": "python",
   "nbconvert_exporter": "python",
   "pygments_lexer": "ipython3",
   "version": "3.6.5"
  }
 },
 "nbformat": 4,
 "nbformat_minor": 2
}
