{
 "cells": [
  {
   "cell_type": "code",
   "execution_count": 22,
   "metadata": {},
   "outputs": [],
   "source": [
    "from boto.s3.connection import Location\n",
    "from boto.s3.key import Key\n",
    "from configparser import ConfigParser\n",
    "from sklearn import metrics\n",
    "from sklearn import svm\n",
    "from sklearn.cross_validation  import cross_val_score\n",
    "from sklearn.cross_validation import train_test_split\n",
    "from sklearn.ensemble import RandomForestClassifier\n",
    "from sklearn.linear_model import LogisticRegression\n",
    "from sklearn.metrics import confusion_matrix\n",
    "from sklearn.metrics import roc_curve\n",
    "from sklearn.neural_network import MLPClassifier\n",
    "from statsmodels.formula.api import logit, probit, poisson, ols\n",
    "import boto\n",
    "import datetime\n",
    "import glob\n",
    "import logging\n",
    "import matplotlib.pyplot as plt\n",
    "import numpy as np\n",
    "import os\n",
    "import pandas as pd\n",
    "import pickle\n",
    "import shutil\n",
    "import statsmodels.api as sm\n",
    "import time\n",
    "import zipfile\n",
    "import requests"
   ]
  },
  {
   "cell_type": "code",
   "execution_count": 23,
   "metadata": {},
   "outputs": [
    {
     "name": "stdout",
     "output_type": "stream",
     "text": [
      "USERNAME=yadav.ank@Husky.neu.edu\n",
      "PASSWORD=pZF<P@U_\n",
      "TRAINQUARTER=Q12005\n",
      "TESTQUARTER=Q22005\n"
     ]
    }
   ],
   "source": [
    "    config = ConfigParser()\n",
    "\n",
    "    config_file = os.path.join(os.path.dirname('__file__'), 'config.ini')\n",
    "    config.read(config_file)\n",
    "    default = config['user.data']\n",
    "    user=default['username']\n",
    "    passwd=default['password']\n",
    "    trainQ=default['trainQtr']\n",
    "    testQ=default['testQtr']\n",
    "\n",
    "    print(\"USERNAME=\" + user)\n",
    "    print(\"PASSWORD=\" + passwd)\n",
    "    print(\"TRAINQUARTER=\" + (trainQ))\n",
    "    print(\"TESTQUARTER=\" + (testQ))"
   ]
  },
  {
   "cell_type": "code",
   "execution_count": 24,
   "metadata": {},
   "outputs": [
    {
     "data": {
      "text/html": [
       "<div>\n",
       "<style scoped>\n",
       "    .dataframe tbody tr th:only-of-type {\n",
       "        vertical-align: middle;\n",
       "    }\n",
       "\n",
       "    .dataframe tbody tr th {\n",
       "        vertical-align: top;\n",
       "    }\n",
       "\n",
       "    .dataframe thead th {\n",
       "        text-align: right;\n",
       "    }\n",
       "</style>\n",
       "<table border=\"1\" class=\"dataframe\">\n",
       "  <thead>\n",
       "    <tr style=\"text-align: right;\">\n",
       "      <th></th>\n",
       "      <th>MONTHLY_REPORTING_PERIOD</th>\n",
       "      <th>CURRENT_ACTUAL_UPB</th>\n",
       "      <th>LOAN_AGE</th>\n",
       "      <th>REM_MTH_LEGAL_MATURITY</th>\n",
       "      <th>CURRENT_INTEREST_DATE</th>\n",
       "      <th>CURRENT_DEFERRED_UPB</th>\n",
       "    </tr>\n",
       "  </thead>\n",
       "  <tbody>\n",
       "    <tr>\n",
       "      <th>0</th>\n",
       "      <td>200504</td>\n",
       "      <td>190000.0</td>\n",
       "      <td>0</td>\n",
       "      <td>360</td>\n",
       "      <td>5.625</td>\n",
       "      <td>0.0</td>\n",
       "    </tr>\n",
       "    <tr>\n",
       "      <th>1</th>\n",
       "      <td>200505</td>\n",
       "      <td>190000.0</td>\n",
       "      <td>1</td>\n",
       "      <td>359</td>\n",
       "      <td>5.625</td>\n",
       "      <td>0.0</td>\n",
       "    </tr>\n",
       "    <tr>\n",
       "      <th>2</th>\n",
       "      <td>200506</td>\n",
       "      <td>190000.0</td>\n",
       "      <td>2</td>\n",
       "      <td>358</td>\n",
       "      <td>5.625</td>\n",
       "      <td>0.0</td>\n",
       "    </tr>\n",
       "    <tr>\n",
       "      <th>3</th>\n",
       "      <td>200507</td>\n",
       "      <td>189000.0</td>\n",
       "      <td>3</td>\n",
       "      <td>357</td>\n",
       "      <td>5.625</td>\n",
       "      <td>0.0</td>\n",
       "    </tr>\n",
       "    <tr>\n",
       "      <th>4</th>\n",
       "      <td>200508</td>\n",
       "      <td>189000.0</td>\n",
       "      <td>4</td>\n",
       "      <td>356</td>\n",
       "      <td>5.625</td>\n",
       "      <td>0.0</td>\n",
       "    </tr>\n",
       "  </tbody>\n",
       "</table>\n",
       "</div>"
      ],
      "text/plain": [
       "   MONTHLY_REPORTING_PERIOD  CURRENT_ACTUAL_UPB  LOAN_AGE  \\\n",
       "0                    200504            190000.0         0   \n",
       "1                    200505            190000.0         1   \n",
       "2                    200506            190000.0         2   \n",
       "3                    200507            189000.0         3   \n",
       "4                    200508            189000.0         4   \n",
       "\n",
       "   REM_MTH_LEGAL_MATURITY  CURRENT_INTEREST_DATE  CURRENT_DEFERRED_UPB  \n",
       "0                     360                  5.625                   0.0  \n",
       "1                     359                  5.625                   0.0  \n",
       "2                     358                  5.625                   0.0  \n",
       "3                     357                  5.625                   0.0  \n",
       "4                     356                  5.625                   0.0  "
      ]
     },
     "execution_count": 24,
     "metadata": {},
     "output_type": "execute_result"
    }
   ],
   "source": [
    "df=pd.read_csv('trainData_' + trainQ + '.csv')\n",
    "traincols=['MONTHLY_REPORTING_PERIOD','CURRENT_ACTUAL_UPB','LOAN_AGE',\n",
    "           'REM_MTH_LEGAL_MATURITY','CURRENT_INTEREST_DATE','CURRENT_DEFERRED_UPB']\n",
    "y_train=df['DELINQUENT']\n",
    "Train_DF=df[traincols]\n",
    "Train_DF.head()\n"
   ]
  },
  {
   "cell_type": "code",
   "execution_count": 25,
   "metadata": {},
   "outputs": [
    {
     "data": {
      "text/html": [
       "<div>\n",
       "<style scoped>\n",
       "    .dataframe tbody tr th:only-of-type {\n",
       "        vertical-align: middle;\n",
       "    }\n",
       "\n",
       "    .dataframe tbody tr th {\n",
       "        vertical-align: top;\n",
       "    }\n",
       "\n",
       "    .dataframe thead th {\n",
       "        text-align: right;\n",
       "    }\n",
       "</style>\n",
       "<table border=\"1\" class=\"dataframe\">\n",
       "  <thead>\n",
       "    <tr style=\"text-align: right;\">\n",
       "      <th></th>\n",
       "      <th>MONTHLY_REPORTING_PERIOD</th>\n",
       "      <th>CURRENT_ACTUAL_UPB</th>\n",
       "      <th>LOAN_AGE</th>\n",
       "      <th>REM_MTH_LEGAL_MATURITY</th>\n",
       "      <th>CURRENT_INTEREST_DATE</th>\n",
       "      <th>CURRENT_DEFERRED_UPB</th>\n",
       "    </tr>\n",
       "  </thead>\n",
       "  <tbody>\n",
       "    <tr>\n",
       "      <th>0</th>\n",
       "      <td>200507</td>\n",
       "      <td>214000.0</td>\n",
       "      <td>0</td>\n",
       "      <td>360</td>\n",
       "      <td>5.75</td>\n",
       "      <td>0.0</td>\n",
       "    </tr>\n",
       "    <tr>\n",
       "      <th>1</th>\n",
       "      <td>200508</td>\n",
       "      <td>214000.0</td>\n",
       "      <td>1</td>\n",
       "      <td>359</td>\n",
       "      <td>5.75</td>\n",
       "      <td>0.0</td>\n",
       "    </tr>\n",
       "    <tr>\n",
       "      <th>2</th>\n",
       "      <td>200509</td>\n",
       "      <td>214000.0</td>\n",
       "      <td>2</td>\n",
       "      <td>358</td>\n",
       "      <td>5.75</td>\n",
       "      <td>0.0</td>\n",
       "    </tr>\n",
       "    <tr>\n",
       "      <th>3</th>\n",
       "      <td>200510</td>\n",
       "      <td>213000.0</td>\n",
       "      <td>3</td>\n",
       "      <td>357</td>\n",
       "      <td>5.75</td>\n",
       "      <td>0.0</td>\n",
       "    </tr>\n",
       "    <tr>\n",
       "      <th>4</th>\n",
       "      <td>200511</td>\n",
       "      <td>213000.0</td>\n",
       "      <td>4</td>\n",
       "      <td>356</td>\n",
       "      <td>5.75</td>\n",
       "      <td>0.0</td>\n",
       "    </tr>\n",
       "  </tbody>\n",
       "</table>\n",
       "</div>"
      ],
      "text/plain": [
       "   MONTHLY_REPORTING_PERIOD  CURRENT_ACTUAL_UPB  LOAN_AGE  \\\n",
       "0                    200507            214000.0         0   \n",
       "1                    200508            214000.0         1   \n",
       "2                    200509            214000.0         2   \n",
       "3                    200510            213000.0         3   \n",
       "4                    200511            213000.0         4   \n",
       "\n",
       "   REM_MTH_LEGAL_MATURITY  CURRENT_INTEREST_DATE  CURRENT_DEFERRED_UPB  \n",
       "0                     360                   5.75                   0.0  \n",
       "1                     359                   5.75                   0.0  \n",
       "2                     358                   5.75                   0.0  \n",
       "3                     357                   5.75                   0.0  \n",
       "4                     356                   5.75                   0.0  "
      ]
     },
     "execution_count": 25,
     "metadata": {},
     "output_type": "execute_result"
    }
   ],
   "source": [
    "test_df=pd.read_csv('testData_' + testQ + '.csv')\n",
    "testcols = ['MONTHLY_REPORTING_PERIOD', 'CURRENT_ACTUAL_UPB', 'LOAN_AGE',\n",
    "                'REM_MTH_LEGAL_MATURITY', 'CURRENT_INTEREST_DATE', 'CURRENT_DEFERRED_UPB']\n",
    "y_test = test_df['DELINQUENT']\n",
    "Test_DF = test_df[testcols]\n",
    "Test_DF.head()"
   ]
  },
  {
   "cell_type": "markdown",
   "metadata": {},
   "source": [
    "# Logistic Regression"
   ]
  },
  {
   "cell_type": "code",
   "execution_count": 7,
   "metadata": {},
   "outputs": [],
   "source": [
    "model = LogisticRegression()\n",
    "mod_fit = model.fit(Train_DF,y_train)"
   ]
  },
  {
   "cell_type": "markdown",
   "metadata": {},
   "source": [
    "## Accuracy of Train"
   ]
  },
  {
   "cell_type": "code",
   "execution_count": 8,
   "metadata": {},
   "outputs": [
    {
     "name": "stdout",
     "output_type": "stream",
     "text": [
      "0.9568720224673917\n"
     ]
    }
   ],
   "source": [
    "print(model.score(Train_DF,y_train))"
   ]
  },
  {
   "cell_type": "code",
   "execution_count": 9,
   "metadata": {},
   "outputs": [],
   "source": [
    "pred = mod_fit.predict(Test_DF)"
   ]
  },
  {
   "cell_type": "markdown",
   "metadata": {},
   "source": [
    "## Accuracy of Test"
   ]
  },
  {
   "cell_type": "code",
   "execution_count": 10,
   "metadata": {},
   "outputs": [
    {
     "data": {
      "text/plain": [
       "0.9523774930957131"
      ]
     },
     "execution_count": 10,
     "metadata": {},
     "output_type": "execute_result"
    }
   ],
   "source": [
    "metrics.accuracy_score(y_test,pred)"
   ]
  },
  {
   "cell_type": "markdown",
   "metadata": {},
   "source": [
    "## Confusion Matrix"
   ]
  },
  {
   "cell_type": "code",
   "execution_count": 11,
   "metadata": {},
   "outputs": [
    {
     "name": "stdout",
     "output_type": "stream",
     "text": [
      "[[28448700      179]\n",
      " [ 1422367       50]]\n"
     ]
    }
   ],
   "source": [
    "print (metrics.confusion_matrix(y_test,pred))"
   ]
  },
  {
   "cell_type": "code",
   "execution_count": 12,
   "metadata": {},
   "outputs": [],
   "source": [
    "preds = model.predict_proba(Test_DF)[:,1]\n",
    "fpr,tpr, _ = roc_curve(y_test,preds)"
   ]
  },
  {
   "cell_type": "markdown",
   "metadata": {},
   "source": [
    "## ROC Curve"
   ]
  },
  {
   "cell_type": "code",
   "execution_count": 13,
   "metadata": {},
   "outputs": [
    {
     "data": {
      "image/png": "[encoded data removed]",
      "text/plain": [
       "<Figure size 432x288 with 1 Axes>"
      ]
     },
     "metadata": {},
     "output_type": "display_data"
    }
   ],
   "source": [
    "import matplotlib.pylab as plt\n",
    "\n",
    "plt.figure()\n",
    "plt.plot(fpr,tpr,label= \"ROC CURVE\")\n",
    "plt.plot([0,1],[0,1],'k--')\n",
    "plt.xlim([0.0,1.0])\n",
    "plt.ylim([0.0,1.05])\n",
    "plt.xlabel('1-Specificity')\n",
    "plt.ylabel('Sensitivity')\n",
    "plt.title('ROC CURVE')\n",
    "plt.legend(loc=\"lower right\")\n",
    "plt.show()"
   ]
  },
  {
   "cell_type": "code",
   "execution_count": 15,
   "metadata": {},
   "outputs": [
    {
     "name": "stdout",
     "output_type": "stream",
     "text": [
      "Optimization terminated successfully.\n",
      "         Current function value: 0.165377\n",
      "         Iterations 8\n",
      "                           Logit Regression Results                           \n",
      "==============================================================================\n",
      "Dep. Variable:             DELINQUENT   No. Observations:             26508106\n",
      "Model:                          Logit   Df Residuals:                 26508100\n",
      "Method:                           MLE   Df Model:                            5\n",
      "Date:                Thu, 29 Nov 2018   Pseudo R-squ.:                 0.06963\n",
      "Time:                        13:25:38   Log-Likelihood:            -4.3838e+06\n",
      "converged:                       True   LL-Null:                   -4.7119e+06\n",
      "                                        LLR p-value:                     0.000\n",
      "============================================================================================\n",
      "                               coef    std err          z      P>|z|      [0.025      0.975]\n",
      "--------------------------------------------------------------------------------------------\n",
      "MONTHLY_REPORTING_PERIOD -2.979e-05   5.36e-08   -555.545      0.000   -2.99e-05   -2.97e-05\n",
      "CURRENT_ACTUAL_UPB        1.811e-06   1.28e-08    141.005      0.000    1.79e-06    1.84e-06\n",
      "LOAN_AGE                     0.0204   2.58e-05    792.562      0.000       0.020       0.020\n",
      "REM_MTH_LEGAL_MATURITY       0.0043   1.32e-05    327.702      0.000       0.004       0.004\n",
      "CURRENT_INTEREST_DATE        0.0356      0.002     22.355      0.000       0.033       0.039\n",
      "CURRENT_DEFERRED_UPB     -8.431e-06    1.9e-07    -44.489      0.000    -8.8e-06   -8.06e-06\n",
      "============================================================================================\n"
     ]
    }
   ],
   "source": [
    "logit = sm.Logit(y_train, Train_DF[traincols])\n",
    "logregression_result = logit.fit()\n",
    "print(logregression_result.summary())"
   ]
  },
  {
   "cell_type": "code",
   "execution_count": 16,
   "metadata": {},
   "outputs": [
    {
     "name": "stdout",
     "output_type": "stream",
     "text": [
      "                                 0         1\n",
      "MONTHLY_REPORTING_PERIOD -0.000030 -0.000030\n",
      "CURRENT_ACTUAL_UPB        0.000002  0.000002\n",
      "LOAN_AGE                  0.020375  0.020476\n",
      "REM_MTH_LEGAL_MATURITY    0.004304  0.004356\n",
      "CURRENT_INTEREST_DATE     0.032503  0.038750\n",
      "CURRENT_DEFERRED_UPB     -0.000009 -0.000008\n"
     ]
    }
   ],
   "source": [
    "print(logregression_result.conf_int())"
   ]
  },
  {
   "cell_type": "code",
   "execution_count": 17,
   "metadata": {},
   "outputs": [
    {
     "data": {
      "text/plain": [
       "array([[-2.92169587e-05,  1.78156846e-06,  2.09367968e-02,\n",
       "         4.51494852e-03, -3.67804723e-05, -1.06894916e-05]])"
      ]
     },
     "execution_count": 17,
     "metadata": {},
     "output_type": "execute_result"
    }
   ],
   "source": [
    "model.coef_"
   ]
  },
  {
   "cell_type": "markdown",
   "metadata": {},
   "source": [
    "# Random Forest"
   ]
  },
  {
   "cell_type": "code",
   "execution_count": 26,
   "metadata": {},
   "outputs": [
    {
     "name": "stderr",
     "output_type": "stream",
     "text": [
      "[Parallel(n_jobs=1)]: Done  20 out of  20 | elapsed:  6.9min finished\n"
     ]
    }
   ],
   "source": [
    "clf = RandomForestClassifier(n_estimators=20,verbose =1,min_samples_split=10)\n",
    "clf = clf.fit(Train_DF, y_train)"
   ]
  },
  {
   "cell_type": "markdown",
   "metadata": {},
   "source": [
    "## Train Accuracy"
   ]
  },
  {
   "cell_type": "code",
   "execution_count": 27,
   "metadata": {},
   "outputs": [
    {
     "name": "stderr",
     "output_type": "stream",
     "text": [
      "[Parallel(n_jobs=1)]: Done  20 out of  20 | elapsed:   58.0s finished\n"
     ]
    },
    {
     "name": "stdout",
     "output_type": "stream",
     "text": [
      "0.9738744\n"
     ]
    }
   ],
   "source": [
    "print(clf.score(Train_DF,y_train))"
   ]
  },
  {
   "cell_type": "markdown",
   "metadata": {},
   "source": [
    "## Test Accuracy"
   ]
  },
  {
   "cell_type": "code",
   "execution_count": 28,
   "metadata": {},
   "outputs": [
    {
     "name": "stderr",
     "output_type": "stream",
     "text": [
      "[Parallel(n_jobs=1)]: Done  20 out of  20 | elapsed:   38.2s finished\n"
     ]
    }
   ],
   "source": [
    "pred = clf.predict(Test_DF)"
   ]
  },
  {
   "cell_type": "code",
   "execution_count": 29,
   "metadata": {},
   "outputs": [
    {
     "data": {
      "text/plain": [
       "0.9504164"
      ]
     },
     "execution_count": 29,
     "metadata": {},
     "output_type": "execute_result"
    }
   ],
   "source": [
    "metrics.accuracy_score(y_test,pred)"
   ]
  },
  {
   "cell_type": "markdown",
   "metadata": {},
   "source": [
    "## Confusion Matrix"
   ]
  },
  {
   "cell_type": "code",
   "execution_count": 30,
   "metadata": {},
   "outputs": [
    {
     "data": {
      "text/plain": [
       "array([[2369121,   12227],\n",
       "       [ 111732,    6920]], dtype=int64)"
      ]
     },
     "execution_count": 30,
     "metadata": {},
     "output_type": "execute_result"
    }
   ],
   "source": [
    "confusion_matrix(y_test, pred, labels=None, sample_weight=None)"
   ]
  },
  {
   "cell_type": "code",
   "execution_count": 31,
   "metadata": {},
   "outputs": [
    {
     "name": "stderr",
     "output_type": "stream",
     "text": [
      "[Parallel(n_jobs=1)]: Done  20 out of  20 | elapsed:   37.8s finished\n"
     ]
    }
   ],
   "source": [
    "preds = clf.predict_proba(Test_DF)[:,1]\n",
    "fpr,tpr, _ = roc_curve(y_test,preds)"
   ]
  },
  {
   "cell_type": "markdown",
   "metadata": {},
   "source": [
    "## ROC Curve"
   ]
  },
  {
   "cell_type": "code",
   "execution_count": 32,
   "metadata": {},
   "outputs": [
    {
     "data": {
      "image/png": "[encoded data removed]",
      "text/plain": [
       "<Figure size 432x288 with 1 Axes>"
      ]
     },
     "metadata": {},
     "output_type": "display_data"
    }
   ],
   "source": [
    "import matplotlib.pylab as plt\n",
    "\n",
    "plt.figure()\n",
    "plt.plot(fpr,tpr,label= \"ROC CURVE\")\n",
    "plt.plot([0,1],[0,1],'k--')\n",
    "plt.xlim([0.0,1.0])\n",
    "plt.ylim([0.0,1.05])\n",
    "plt.xlabel('1-Specificity')\n",
    "plt.ylabel('Sensitivity')\n",
    "plt.title('ROC CURVE')\n",
    "plt.legend(loc=\"lower right\")\n",
    "plt.show()"
   ]
  },
  {
   "cell_type": "markdown",
   "metadata": {},
   "source": [
    "# Neural Netwroks"
   ]
  },
  {
   "cell_type": "code",
   "execution_count": 33,
   "metadata": {},
   "outputs": [],
   "source": [
    "clf = MLPClassifier(solver='adam', learning_rate_init=0.1,hidden_layer_sizes=(2, 4), random_state=1)\n",
    "clf = clf.fit(Train_DF, y_train)"
   ]
  },
  {
   "cell_type": "markdown",
   "metadata": {},
   "source": [
    "## Train Accuracy"
   ]
  },
  {
   "cell_type": "code",
   "execution_count": 34,
   "metadata": {},
   "outputs": [],
   "source": [
    "pred = clf.predict(Test_DF)"
   ]
  },
  {
   "cell_type": "code",
   "execution_count": 35,
   "metadata": {},
   "outputs": [
    {
     "name": "stdout",
     "output_type": "stream",
     "text": [
      "0.9531212\n"
     ]
    }
   ],
   "source": [
    "print(clf.score(Train_DF,y_train))"
   ]
  },
  {
   "cell_type": "markdown",
   "metadata": {},
   "source": [
    "## Test Accuracy"
   ]
  },
  {
   "cell_type": "code",
   "execution_count": 36,
   "metadata": {},
   "outputs": [
    {
     "data": {
      "text/plain": [
       "0.9525392"
      ]
     },
     "execution_count": 36,
     "metadata": {},
     "output_type": "execute_result"
    }
   ],
   "source": [
    "metrics.accuracy_score(y_test,pred)"
   ]
  },
  {
   "cell_type": "code",
   "execution_count": 37,
   "metadata": {},
   "outputs": [
    {
     "data": {
      "text/html": [
       "<div>\n",
       "<style scoped>\n",
       "    .dataframe tbody tr th:only-of-type {\n",
       "        vertical-align: middle;\n",
       "    }\n",
       "\n",
       "    .dataframe tbody tr th {\n",
       "        vertical-align: top;\n",
       "    }\n",
       "\n",
       "    .dataframe thead th {\n",
       "        text-align: right;\n",
       "    }\n",
       "</style>\n",
       "<table border=\"1\" class=\"dataframe\">\n",
       "  <thead>\n",
       "    <tr style=\"text-align: right;\">\n",
       "      <th>ytest</th>\n",
       "      <th>0</th>\n",
       "    </tr>\n",
       "    <tr>\n",
       "      <th>pred</th>\n",
       "      <th></th>\n",
       "    </tr>\n",
       "  </thead>\n",
       "  <tbody>\n",
       "    <tr>\n",
       "      <th>0</th>\n",
       "      <td>2381348</td>\n",
       "    </tr>\n",
       "    <tr>\n",
       "      <th>1</th>\n",
       "      <td>118652</td>\n",
       "    </tr>\n",
       "  </tbody>\n",
       "</table>\n",
       "</div>"
      ],
      "text/plain": [
       "ytest        0\n",
       "pred          \n",
       "0      2381348\n",
       "1       118652"
      ]
     },
     "execution_count": 37,
     "metadata": {},
     "output_type": "execute_result"
    }
   ],
   "source": [
    "pd.crosstab(y_test, pred,rownames=['pred'],colnames=['ytest'])"
   ]
  },
  {
   "cell_type": "code",
   "execution_count": 38,
   "metadata": {},
   "outputs": [],
   "source": [
    "preds = clf.predict_proba(Test_DF)[:,1]\n",
    "fpr,tpr, _ = roc_curve(y_test,preds)"
   ]
  },
  {
   "cell_type": "markdown",
   "metadata": {},
   "source": [
    "## ROC Curve"
   ]
  },
  {
   "cell_type": "code",
   "execution_count": 39,
   "metadata": {},
   "outputs": [
    {
     "data": {
      "image/png": "[encoded data removed]",
      "text/plain": [
       "<Figure size 432x288 with 1 Axes>"
      ]
     },
     "metadata": {},
     "output_type": "display_data"
    }
   ],
   "source": [
    "import matplotlib.pylab as plt\n",
    "\n",
    "plt.figure()\n",
    "plt.plot(fpr,tpr,label= \"ROC CURVE\")\n",
    "plt.plot([0,1],[0,1],'k--')\n",
    "plt.xlim([0.0,1.0])\n",
    "plt.ylim([0.0,1.05])\n",
    "plt.xlabel('1-Specificity')\n",
    "plt.ylabel('Sensitivity')\n",
    "plt.title('ROC CURVE')\n",
    "plt.legend(loc=\"lower right\")\n",
    "plt.show()"
   ]
  },
  {
   "cell_type": "markdown",
   "metadata": {},
   "source": [
    "## Confusion Matrix\n",
    "Creating confusion matrix for the given quarter"
   ]
  },
  {
   "cell_type": "code",
   "execution_count": 40,
   "metadata": {},
   "outputs": [],
   "source": [
    "cf=confusion_matrix(y_test, pred, labels=None, sample_weight=None)\n",
    "numDelinqProper=cf[1][1]\n",
    "numnondelinqimproper=cf[0][1]\n",
    "numRecordsInDataset=y_test.count()\n",
    "numPredictedDelinq=cf[1][0]+cf[1][1]\n",
    "numActualDelinq=y_test[y_test==1].count()\n",
    "    \n",
    "record= testQ+\",\"+str(numActualDelinq)+\",\"+str(numPredictedDelinq)+\",\"+str(numRecordsInDataset)+\",\"+str(numDelinqProper)+\",\"+str(numnondelinqimproper)\n",
    "   "
   ]
  },
  {
   "cell_type": "code",
   "execution_count": 41,
   "metadata": {},
   "outputs": [
    {
     "name": "stdout",
     "output_type": "stream",
     "text": [
      "Q22005,118652,118652,2500000,0,0\n"
     ]
    }
   ],
   "source": [
    "print(record)"
   ]
  },
  {
   "cell_type": "code",
   "execution_count": null,
   "metadata": {},
   "outputs": [],
   "source": [
    "from pathlib import Path\n",
    "FINALCSVPATH= \"./ClassificationMetrics.csv\"\n",
    "checkFile = Path(FINALCSVPATH)\n",
    "\n",
    "if checkFile.is_file():\n",
    "    with open(FINALCSVPATH,\"a\") as fil:\n",
    "        fil.write(record)\n",
    "        fil.write(\"\\n\")\n",
    "else:\n",
    "    with open(FINALCSVPATH,\"a\") as fil:\n",
    "        fil.write(\"Quarter,NumActualDelinquents,NumOfPredictedDelinquents,NumRecordsInDataset,NumDelinquentsProperlyClassified,NumNonDelinquentsImproperlyClassified\")\n",
    "        fil.write(\"\\n\")\n",
    "        fil.write(record)\n",
    "        fil.write(\"\\n\")"
   ]
  },
  {
   "cell_type": "markdown",
   "metadata": {},
   "source": [
    "## Summary\n",
    "This ends our classification based on the given data.\n",
    "\n",
    "#### Best model :\n",
    "Random Forest"
   ]
  }
 ],
 "metadata": {
  "kernelspec": {
   "display_name": "Python 3",
   "language": "python",
   "name": "python3"
  },
  "language_info": {
   "codemirror_mode": {
    "name": "ipython",
    "version": 3
   },
   "file_extension": ".py",
   "mimetype": "text/x-python",
   "name": "python",
   "nbconvert_exporter": "python",
   "pygments_lexer": "ipython3",
   "version": "3.6.5"
  }
 },
 "nbformat": 4,
 "nbformat_minor": 2
}
