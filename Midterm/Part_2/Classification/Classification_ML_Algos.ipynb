{
 "cells": [
  {
   "cell_type": "code",
   "execution_count": 12,
   "metadata": {},
   "outputs": [],
   "source": [
    "from boto.s3.connection import Location\n",
    "from boto.s3.key import Key\n",
    "from configparser import ConfigParser\n",
    "from sklearn import metrics\n",
    "from sklearn import svm\n",
    "from sklearn.cross_validation  import cross_val_score\n",
    "from sklearn.cross_validation import train_test_split\n",
    "from sklearn.ensemble import RandomForestClassifier\n",
    "from sklearn.linear_model import LogisticRegression\n",
    "from sklearn.metrics import confusion_matrix\n",
    "from sklearn.metrics import roc_curve\n",
    "from sklearn.neural_network import MLPClassifier\n",
    "from statsmodels.formula.api import logit, probit, poisson, ols\n",
    "import boto\n",
    "import datetime\n",
    "import glob\n",
    "import logging\n",
    "import matplotlib.pyplot as plt\n",
    "import numpy as np\n",
    "import os\n",
    "import pandas as pd\n",
    "import pickle\n",
    "import shutil\n",
    "import statsmodels.api as sm\n",
    "import time\n",
    "import zipfile\n",
    "import requests"
   ]
  },
  {
   "cell_type": "code",
   "execution_count": 13,
   "metadata": {},
   "outputs": [
    {
     "name": "stdout",
     "output_type": "stream",
     "text": [
      "USERNAME=yadav.ank@Husky.neu.edu\n",
      "PASSWORD=?{BrQ9L\\\n",
      "TRAINQUARTER=Q12005\n",
      "TESTQUARTER=Q22005\n"
     ]
    }
   ],
   "source": [
    "    config = ConfigParser()\n",
    "\n",
    "    config_file = os.path.join(os.path.dirname('__file__'), 'config.ini')\n",
    "    config.read(config_file)\n",
    "    default = config['user.data']\n",
    "    user=default['username']\n",
    "    passwd=default['password']\n",
    "    trainQ=default['trainQtr']\n",
    "    testQ=default['testQtr']\n",
    "\n",
    "    print(\"USERNAME=\" + user)\n",
    "    print(\"PASSWORD=\" + passwd)\n",
    "    print(\"TRAINQUARTER=\" + (trainQ))\n",
    "    print(\"TESTQUARTER=\" + (testQ))"
   ]
  },
  {
   "cell_type": "code",
   "execution_count": 14,
   "metadata": {},
   "outputs": [
    {
     "data": {
      "text/html": [
       "<div>\n",
       "<style scoped>\n",
       "    .dataframe tbody tr th:only-of-type {\n",
       "        vertical-align: middle;\n",
       "    }\n",
       "\n",
       "    .dataframe tbody tr th {\n",
       "        vertical-align: top;\n",
       "    }\n",
       "\n",
       "    .dataframe thead th {\n",
       "        text-align: right;\n",
       "    }\n",
       "</style>\n",
       "<table border=\"1\" class=\"dataframe\">\n",
       "  <thead>\n",
       "    <tr style=\"text-align: right;\">\n",
       "      <th></th>\n",
       "      <th>MONTHLY_REPORTING_PERIOD</th>\n",
       "      <th>CURRENT_ACTUAL_UPB</th>\n",
       "      <th>LOAN_AGE</th>\n",
       "      <th>REM_MTH_LEGAL_MATURITY</th>\n",
       "      <th>CURRENT_INTEREST_DATE</th>\n",
       "      <th>CURRENT_DEFERRED_UPB</th>\n",
       "    </tr>\n",
       "  </thead>\n",
       "  <tbody>\n",
       "    <tr>\n",
       "      <th>0</th>\n",
       "      <td>200504</td>\n",
       "      <td>190000.0</td>\n",
       "      <td>0</td>\n",
       "      <td>360</td>\n",
       "      <td>5.625</td>\n",
       "      <td>0.0</td>\n",
       "    </tr>\n",
       "    <tr>\n",
       "      <th>1</th>\n",
       "      <td>200505</td>\n",
       "      <td>190000.0</td>\n",
       "      <td>1</td>\n",
       "      <td>359</td>\n",
       "      <td>5.625</td>\n",
       "      <td>0.0</td>\n",
       "    </tr>\n",
       "    <tr>\n",
       "      <th>2</th>\n",
       "      <td>200506</td>\n",
       "      <td>190000.0</td>\n",
       "      <td>2</td>\n",
       "      <td>358</td>\n",
       "      <td>5.625</td>\n",
       "      <td>0.0</td>\n",
       "    </tr>\n",
       "    <tr>\n",
       "      <th>3</th>\n",
       "      <td>200507</td>\n",
       "      <td>189000.0</td>\n",
       "      <td>3</td>\n",
       "      <td>357</td>\n",
       "      <td>5.625</td>\n",
       "      <td>0.0</td>\n",
       "    </tr>\n",
       "    <tr>\n",
       "      <th>4</th>\n",
       "      <td>200508</td>\n",
       "      <td>189000.0</td>\n",
       "      <td>4</td>\n",
       "      <td>356</td>\n",
       "      <td>5.625</td>\n",
       "      <td>0.0</td>\n",
       "    </tr>\n",
       "  </tbody>\n",
       "</table>\n",
       "</div>"
      ],
      "text/plain": [
       "   MONTHLY_REPORTING_PERIOD  CURRENT_ACTUAL_UPB  LOAN_AGE  \\\n",
       "0                    200504            190000.0         0   \n",
       "1                    200505            190000.0         1   \n",
       "2                    200506            190000.0         2   \n",
       "3                    200507            189000.0         3   \n",
       "4                    200508            189000.0         4   \n",
       "\n",
       "   REM_MTH_LEGAL_MATURITY  CURRENT_INTEREST_DATE  CURRENT_DEFERRED_UPB  \n",
       "0                     360                  5.625                   0.0  \n",
       "1                     359                  5.625                   0.0  \n",
       "2                     358                  5.625                   0.0  \n",
       "3                     357                  5.625                   0.0  \n",
       "4                     356                  5.625                   0.0  "
      ]
     },
     "execution_count": 14,
     "metadata": {},
     "output_type": "execute_result"
    }
   ],
   "source": [
    "df=pd.read_csv('trainData_' + trainQ + '.csv')\n",
    "traincols=['MONTHLY_REPORTING_PERIOD','CURRENT_ACTUAL_UPB','LOAN_AGE',\n",
    "           'REM_MTH_LEGAL_MATURITY','CURRENT_INTEREST_DATE','CURRENT_DEFERRED_UPB']\n",
    "y_train=df['DELINQUENT']\n",
    "Train_DF=df[traincols]\n",
    "Train_DF.head()\n"
   ]
  },
  {
   "cell_type": "code",
   "execution_count": 15,
   "metadata": {},
   "outputs": [
    {
     "data": {
      "text/html": [
       "<div>\n",
       "<style scoped>\n",
       "    .dataframe tbody tr th:only-of-type {\n",
       "        vertical-align: middle;\n",
       "    }\n",
       "\n",
       "    .dataframe tbody tr th {\n",
       "        vertical-align: top;\n",
       "    }\n",
       "\n",
       "    .dataframe thead th {\n",
       "        text-align: right;\n",
       "    }\n",
       "</style>\n",
       "<table border=\"1\" class=\"dataframe\">\n",
       "  <thead>\n",
       "    <tr style=\"text-align: right;\">\n",
       "      <th></th>\n",
       "      <th>MONTHLY_REPORTING_PERIOD</th>\n",
       "      <th>CURRENT_ACTUAL_UPB</th>\n",
       "      <th>LOAN_AGE</th>\n",
       "      <th>REM_MTH_LEGAL_MATURITY</th>\n",
       "      <th>CURRENT_INTEREST_DATE</th>\n",
       "      <th>CURRENT_DEFERRED_UPB</th>\n",
       "    </tr>\n",
       "  </thead>\n",
       "  <tbody>\n",
       "    <tr>\n",
       "      <th>0</th>\n",
       "      <td>200507</td>\n",
       "      <td>214000.0</td>\n",
       "      <td>0</td>\n",
       "      <td>360</td>\n",
       "      <td>5.75</td>\n",
       "      <td>0.0</td>\n",
       "    </tr>\n",
       "    <tr>\n",
       "      <th>1</th>\n",
       "      <td>200508</td>\n",
       "      <td>214000.0</td>\n",
       "      <td>1</td>\n",
       "      <td>359</td>\n",
       "      <td>5.75</td>\n",
       "      <td>0.0</td>\n",
       "    </tr>\n",
       "    <tr>\n",
       "      <th>2</th>\n",
       "      <td>200509</td>\n",
       "      <td>214000.0</td>\n",
       "      <td>2</td>\n",
       "      <td>358</td>\n",
       "      <td>5.75</td>\n",
       "      <td>0.0</td>\n",
       "    </tr>\n",
       "    <tr>\n",
       "      <th>3</th>\n",
       "      <td>200510</td>\n",
       "      <td>213000.0</td>\n",
       "      <td>3</td>\n",
       "      <td>357</td>\n",
       "      <td>5.75</td>\n",
       "      <td>0.0</td>\n",
       "    </tr>\n",
       "    <tr>\n",
       "      <th>4</th>\n",
       "      <td>200511</td>\n",
       "      <td>213000.0</td>\n",
       "      <td>4</td>\n",
       "      <td>356</td>\n",
       "      <td>5.75</td>\n",
       "      <td>0.0</td>\n",
       "    </tr>\n",
       "  </tbody>\n",
       "</table>\n",
       "</div>"
      ],
      "text/plain": [
       "   MONTHLY_REPORTING_PERIOD  CURRENT_ACTUAL_UPB  LOAN_AGE  \\\n",
       "0                    200507            214000.0         0   \n",
       "1                    200508            214000.0         1   \n",
       "2                    200509            214000.0         2   \n",
       "3                    200510            213000.0         3   \n",
       "4                    200511            213000.0         4   \n",
       "\n",
       "   REM_MTH_LEGAL_MATURITY  CURRENT_INTEREST_DATE  CURRENT_DEFERRED_UPB  \n",
       "0                     360                   5.75                   0.0  \n",
       "1                     359                   5.75                   0.0  \n",
       "2                     358                   5.75                   0.0  \n",
       "3                     357                   5.75                   0.0  \n",
       "4                     356                   5.75                   0.0  "
      ]
     },
     "execution_count": 15,
     "metadata": {},
     "output_type": "execute_result"
    }
   ],
   "source": [
    "test_df=pd.read_csv('testData_' + testQ + '.csv')\n",
    "testcols = ['MONTHLY_REPORTING_PERIOD', 'CURRENT_ACTUAL_UPB', 'LOAN_AGE',\n",
    "                'REM_MTH_LEGAL_MATURITY', 'CURRENT_INTEREST_DATE', 'CURRENT_DEFERRED_UPB']\n",
    "y_test = test_df['DELINQUENT']\n",
    "Test_DF = test_df[testcols]\n",
    "Test_DF.head()"
   ]
  },
  {
   "cell_type": "markdown",
   "metadata": {},
   "source": [
    "# TPOT"
   ]
  },
  {
   "cell_type": "code",
   "execution_count": 16,
   "metadata": {},
   "outputs": [],
   "source": [
    "from tpot import TPOTRegressor\n",
    "pipeline_optimizer = TPOTRegressor()"
   ]
  },
  {
   "cell_type": "code",
   "execution_count": 17,
   "metadata": {},
   "outputs": [],
   "source": [
    "pipeline_optimizer = TPOTRegressor(generations=4, population_size=20, cv = 3,\n",
    "                                    random_state=42, verbosity=2)"
   ]
  },
  {
   "cell_type": "code",
   "execution_count": null,
   "metadata": {},
   "outputs": [
    {
     "name": "stdout",
     "output_type": "stream",
     "text": [
      "Warning: xgboost.XGBRegressor is not available and will not be used by TPOT.\n"
     ]
    },
    {
     "data": {
      "application/vnd.jupyter.widget-view+json": {
       "model_id": "21626bc641d242eda0bf42b8b264618a",
       "version_major": 2,
       "version_minor": 0
      },
      "text/plain": [
       "HBox(children=(IntProgress(value=0, description='Optimization Progress', style=ProgressStyle(description_width…"
      ]
     },
     "metadata": {},
     "output_type": "display_data"
    }
   ],
   "source": [
    "pipeline_optimizer.fit(Train_DF,y_train)"
   ]
  },
  {
   "cell_type": "code",
   "execution_count": null,
   "metadata": {},
   "outputs": [],
   "source": [
    "print(pipeline_optimizer.score(test_DF, y_test))"
   ]
  },
  {
   "cell_type": "code",
   "execution_count": null,
   "metadata": {},
   "outputs": [],
   "source": []
  }
 ],
 "metadata": {
  "kernelspec": {
   "display_name": "Python 3",
   "language": "python",
   "name": "python3"
  },
  "language_info": {
   "codemirror_mode": {
    "name": "ipython",
    "version": 3
   },
   "file_extension": ".py",
   "mimetype": "text/x-python",
   "name": "python",
   "nbconvert_exporter": "python",
   "pygments_lexer": "ipython3",
   "version": "3.6.5"
  }
 },
 "nbformat": 4,
 "nbformat_minor": 2
}
