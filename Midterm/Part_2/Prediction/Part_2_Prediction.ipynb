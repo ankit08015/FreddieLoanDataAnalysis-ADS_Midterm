{
 "cells": [
  {
   "cell_type": "code",
   "execution_count": 55,
   "metadata": {},
   "outputs": [],
   "source": [
    "from sklearn import preprocessing\n",
    "from sklearn.cluster import KMeans\n",
    "from sklearn.manifold import TSNE\n",
    "import requests\n",
    "import re\n",
    "import os\n",
    "from bs4 import BeautifulSoup\n",
    "from urllib.request import urlopen\n",
    "from zipfile import ZipFile\n",
    "from io import BytesIO\n",
    "import time\n",
    "import datetime\n",
    "import sys\n",
    "from tqdm import tqdm\n",
    "import pandas as pd\n",
    "import numpy as np\n",
    "import glob\n",
    "import csv    \n",
    "from http.cookiejar import LWPCookieJar\n",
    "import pandas\n",
    "import warnings\n",
    "from sklearn.exceptions import ConvergenceWarning\n",
    "import matplotlib.pyplot as plt\n",
    "import numpy as np\n",
    "import requests\n",
    "import re\n",
    "import os\n",
    "import glob\n",
    "import csv\n",
    "import numpy as np\n",
    "import scipy, scipy.stats\n",
    "from sklearn.linear_model import LinearRegression\n",
    "import statsmodels.formula.api as sm\n",
    "import matplotlib.pyplot as plt\n",
    "import math\n",
    "%matplotlib inline\n",
    "from sklearn.feature_selection import SelectKBest\n",
    "from sklearn.feature_selection import RFE\n",
    "from sklearn.svm import SVR\n",
    "from sklearn.feature_selection import SelectFromModel\n",
    "from sklearn.linear_model import LassoCV\n",
    "from sklearn.feature_selection import f_regression \n",
    "from sklearn.linear_model import RandomizedLasso\n",
    "from sklearn.linear_model import LassoLarsCV\n",
    "from sklearn.metrics import *\n",
    "from pybrain.tools.shortcuts import buildNetwork\n",
    "from pybrain.datasets.supervised import SupervisedDataSet as SDS\n",
    "from pybrain.supervised.trainers import BackpropTrainer\n",
    "from sklearn.neighbors import KNeighborsRegressor\n",
    "from sklearn.ensemble import RandomForestRegressor\n",
    "from sklearn.neural_network import MLPRegressor\n",
    "from sklearn.metrics import mean_squared_error, mean_absolute_error, r2_score\n",
    "from math import sqrt\n",
    "import operator\n",
    "import seaborn as sns"
   ]
  },
  {
   "cell_type": "code",
   "execution_count": 34,
   "metadata": {},
   "outputs": [],
   "source": [
    "lm=LinearRegression()"
   ]
  },
  {
   "cell_type": "code",
   "execution_count": 35,
   "metadata": {},
   "outputs": [],
   "source": [
    "def assure_path_exists(path):\n",
    "    if not os.path.exists(path):\n",
    "            os.makedirs(path)"
   ]
  },
  {
   "cell_type": "code",
   "execution_count": 36,
   "metadata": {},
   "outputs": [],
   "source": [
    "def extracrtZip(s,monthlistdata,path):\n",
    "    abc = tqdm(monthlistdata)\n",
    "    for month in abc:\n",
    "        abc.set_description(\"Downloading %s\" % month)\n",
    "        r = s.get(month)\n",
    "        z = ZipFile(BytesIO(r.content)) \n",
    "        z.extractall(path)"
   ]
  },
  {
   "cell_type": "code",
   "execution_count": 135,
   "metadata": {},
   "outputs": [],
   "source": [
    "def download_file_for_quarter(quarter):\n",
    "    with requests.Session() as s:\n",
    "        #url='https://freddiemac.embs.com/FLoan/Data/download.php'\n",
    "        url='https://freddiemac.embs.com/FLoan/secure/auth.php'\n",
    "        s.cookies = LWPCookieJar('cookiejar')\n",
    "        if not os.path.exists('cookiejar'):\n",
    "            print('setting cookies')\n",
    "            s.cookies.save()\n",
    "    \n",
    "        else:\n",
    "    # Load saved cookies from the file and use them in a request\n",
    "            print('loading saved cookies')\n",
    "            s.cookies.load(ignore_discard=True)\n",
    "    \n",
    "        s.get(url)\n",
    "        login_data= dict(username=USERNAME, password=PASSWORD)\n",
    "        login=s.post(url, data=login_data)\n",
    "        # Save the session's cookies back to the file\n",
    "        s.cookies.save(ignore_discard=True)\n",
    "        payload2={'accept': 'Yes','acceptSubmit':'Continue','action':'acceptTandC'}\n",
    "        page=s.get('https://freddiemac.embs.com/FLoan/Data/download2.php')\n",
    "        final_page=s.post('https://freddiemac.embs.com/FLoan/Data/download2.php',data= payload2)\n",
    "        allzipfiles=BeautifulSoup(final_page.text, \"html.parser\")\n",
    "        ziplist=allzipfiles.find_all('th')\n",
    "        sampledata=[]\n",
    "        historicaldata=[]\n",
    "        count=0\n",
    "        for li in ziplist:\n",
    "            zipatags=li.findAll('a')\n",
    "            for zipa in zipatags:\n",
    "                fetchFile='historical_data1_'\n",
    "                if (quarter in zipa.text):\n",
    "                    if(fetchFile in zipa.text):\n",
    "                        link = zipa.get('href')\n",
    "                        foldername= 'HistoricalInputFiles'\n",
    "                        print('--------------------------------------------------------------------------------------')\n",
    "                        Historicalpath=str(os.getcwd())+\"/\"+foldername\n",
    "                        assure_path_exists(Historicalpath)\n",
    "                        print(Historicalpath)\n",
    "                        finallink ='https://freddiemac.embs.com/FLoan/Data/' + link\n",
    "                        print(finallink)\n",
    "                        historicaldata.append(finallink)\n",
    "                elif (testquarter in zipa.text):\n",
    "                    if(fetchFile in zipa.text):\n",
    "                        link = zipa.get('href')\n",
    "                        foldername= 'HistoricalInputFiles'\n",
    "                        Historicalpath=str(os.getcwd())+\"/\"+foldername\n",
    "                        assure_path_exists(Historicalpath)\n",
    "                        print(Historicalpath)\n",
    "                        finallink ='https://freddiemac.embs.com/FLoan/Data/' + link\n",
    "                        print(finallink)\n",
    "                        historicaldata.append(finallink)\n",
    "        extracrtZip(s,historicaldata,Historicalpath)\n",
    "        "
   ]
  },
  {
   "cell_type": "code",
   "execution_count": 136,
   "metadata": {},
   "outputs": [],
   "source": [
    "def fillNAN(df): \n",
    "    df['fico'] = df['fico'].fillna(0) \n",
    "    df['flag_fthb']=df['flag_fthb'].fillna('X') \n",
    "    df['cd_msa']=df['cd_msa'].fillna(0) \n",
    "    df['mi_pct']=df['mi_pct'].fillna(0) \n",
    "    df['cnt_units']=df['cnt_units'].fillna(0) \n",
    "    df['occpy_sts']=df['occpy_sts'].fillna('X') \n",
    "    df['cltv']=df['cltv'].fillna(0) \n",
    "    df['dti']=df['dti'].fillna(0) \n",
    "    df['ltv']=df['ltv'].fillna(0) \n",
    "    df['channel']=df['channel'].fillna('X') \n",
    "    df['ppmt_pnlty']=df['ppmt_pnlty'].fillna('X') \n",
    "    df['prop_type']=df['prop_type'].fillna('XX') \n",
    "    df['zipcode']=df['zipcode'].fillna(0) \n",
    "    df['loan_purpose']=df['loan_purpose'].fillna('X') \n",
    "    df['cnt_borr']=df['cnt_borr'].fillna(0) \n",
    "    df['flag_sc']=df['flag_sc'].fillna('N') \n",
    "    return df\n"
   ]
  },
  {
   "cell_type": "code",
   "execution_count": 137,
   "metadata": {},
   "outputs": [],
   "source": [
    "def changedatatype(df):\n",
    "#Change the data types for all column\n",
    "    df[['fico','cd_msa','mi_pct','cnt_borr','cnt_units','cltv','dti','orig_upb','ltv','zipcode','orig_loan_term']] = df[['fico','cd_msa','mi_pct','cnt_borr','cnt_units','cltv','dti','orig_upb','ltv','zipcode','orig_loan_term']].astype('int64')\n",
    "    df[['flag_sc','servicer_name']] = df[['flag_sc','servicer_name']].astype('str')\n",
    "    return df"
   ]
  },
  {
   "cell_type": "code",
   "execution_count": 138,
   "metadata": {},
   "outputs": [],
   "source": [
    "def createDummies(df): \n",
    "    dummies = pd.get_dummies(df['flag_fthb']).rename(columns=lambda x: 'flag_fthb' + str(x)) \n",
    "    train_df=pd.concat([df, dummies], axis=1) \n",
    "    dummies1 = pd.get_dummies(df['occpy_sts']).rename(columns=lambda x: 'occpy_sts' + str(x)) \n",
    "    train_df=pd.concat([train_df, dummies1], axis=1) \n",
    "    dummies2 = pd.get_dummies(df['channel']).rename(columns=lambda x: 'channel' + str(x)) \n",
    "    train_df=pd.concat([train_df, dummies2], axis=1) \n",
    "    dummies3 = pd.get_dummies(df['ppmt_pnlty']).rename(columns=lambda x: 'ppmt_pnlty' + str(x)) \n",
    "    train_df=pd.concat([train_df, dummies3], axis=1) \n",
    "    dummies4 = pd.get_dummies(df['prop_type']).rename(columns=lambda x: 'prop_type' + str(x)) \n",
    "    train_df=pd.concat([train_df, dummies4], axis=1) \n",
    "    dummies5 = pd.get_dummies(df['loan_purpose']).rename(columns=lambda x: 'loan_purpose' + str(x)) \n",
    "    train_df=pd.concat([train_df, dummies5], axis=1) \n",
    "    train_df['flag_sc']=train_df['flag_sc'].map({'Y':1,'N':0}) \n",
    "    return train_df"
   ]
  },
  {
   "cell_type": "code",
   "execution_count": 139,
   "metadata": {},
   "outputs": [],
   "source": [
    "def trainModel(year):\n",
    "    foldername= 'HistoricalInputFiles'\n",
    "    Historicalpath=str(os.getcwd())+\"\\\\\"+foldername\n",
    "    filename=Historicalpath+\"\\historical_data1_\"+str(year)+\".txt\" \n",
    "    my_file = Path(filename)\n",
    "    if my_file.exists():\n",
    "        Hist_df = pd.read_csv(filename ,sep=\"|\", names=['fico','dt_first_pi','flag_fthb','dt_matr','cd_msa',\"mi_pct\",'cnt_units','occpy_sts','cltv','dti','orig_upb','ltv','int_rt','channel','ppmt_pnlty','prod_type','st', 'prop_type','zipcode','id_loan','loan_purpose', 'orig_loan_term','cnt_borr','seller_name','servicer_name','flag_sc'],skipinitialspace=True) \n",
    "        Hist_df = fillNAN(Hist_df) \n",
    "        Hist_df = changedatatype(Hist_df)\n",
    "        Hist_df = createDummies(Hist_df)\n",
    "        Hist_numeric=Hist_df._get_numeric_data()\n",
    "        Hist_numeric.drop('cd_msa',axis=1,inplace=True) \n",
    "        Hist_numeric.drop('dt_first_pi',axis=1,inplace=True) \n",
    "        Hist_numeric.drop('dt_matr',axis=1,inplace=True) \n",
    "        Hist_numeric.drop('flag_sc',axis=1,inplace=True) \n",
    "        Hist_numeric.drop('zipcode',axis=1,inplace=True) \n",
    "        return Hist_numeric\n",
    "    else:\n",
    "        download_file_for_quarter(year)\n",
    "        Hist_df = pd.read_csv(filename ,sep=\"|\", names=['fico','dt_first_pi','flag_fthb','dt_matr','cd_msa',\"mi_pct\",'cnt_units','occpy_sts','cltv','dti','orig_upb','ltv','int_rt','channel','ppmt_pnlty','prod_type','st', 'prop_type','zipcode','id_loan','loan_purpose', 'orig_loan_term','cnt_borr','seller_name','servicer_name','flag_sc'],skipinitialspace=True) \n",
    "        Hist_df = fillNAN(Hist_df) \n",
    "        Hist_df = changedatatype(Hist_df)\n",
    "        Hist_df = createDummies(Hist_df)\n",
    "        Hist_numeric=Hist_df._get_numeric_data()\n",
    "        Hist_numeric.drop('cd_msa',axis=1,inplace=True) \n",
    "        Hist_numeric.drop('dt_first_pi',axis=1,inplace=True) \n",
    "        Hist_numeric.drop('dt_matr',axis=1,inplace=True) \n",
    "        Hist_numeric.drop('flag_sc',axis=1,inplace=True) \n",
    "        Hist_numeric.drop('zipcode',axis=1,inplace=True) \n",
    "        return Hist_numeric"
   ]
  },
  {
   "cell_type": "code",
   "execution_count": 140,
   "metadata": {},
   "outputs": [],
   "source": [
    "def selectKBest(kb,x,y): \n",
    "    b=SelectKBest(f_regression,k=20) \n",
    "    b.fit(x,y)\n",
    "    X_train = b.fit_transform(x,y)\n",
    "    kb.fit(X_train,y)\n",
    "    score = kb.score(X_train, y)\n",
    "    pred=kb.predict(X_train)\n",
    "    sc=r2_score(y,pred)\n",
    "    print(\"select k best:\")\n",
    "    print(sc)\n",
    "    return kb"
   ]
  },
  {
   "cell_type": "code",
   "execution_count": 141,
   "metadata": {},
   "outputs": [],
   "source": [
    "def FeatureSelectionTechniques(q1):\n",
    "    org=lm\n",
    "    print(\"Training Data\")\n",
    "    Data1=trainModel(q1)\n",
    "    print('train')\n",
    "    y_train1=Data1.int_rt\n",
    "    Data1.drop('int_rt',axis=1,inplace=True)\n",
    "    x_train1=Data1\n",
    "    print('---------------')\n",
    "    #selectKBest(org,x_train1,y_train1)\n",
    "    Feature_selection_using_mlxtnd(org,x_train1,y_train1)\n",
    "    "
   ]
  },
  {
   "cell_type": "code",
   "execution_count": 142,
   "metadata": {},
   "outputs": [],
   "source": [
    "def Feature_selection_using_mlxtnd(org,x_train1,y_train1):\n",
    "    k = 15\n",
    "    print('--------------------')\n",
    "    sfs = SFS(org, \n",
    "              forward=True,\n",
    "              floating=False,\n",
    "              k_features=k,\n",
    "              scoring='neg_mean_squared_error',\n",
    "              cv=2)\n",
    "    sfs.fit(x_train1.values, y_train1.values)\n",
    "    sfs.k_feature_names_\n",
    "    print(sfs.k_feature_names_)   "
   ]
  },
  {
   "cell_type": "code",
   "execution_count": 143,
   "metadata": {},
   "outputs": [],
   "source": [
    "def Backward_Selection(org,x_train1,y_train1):\n",
    "    k = 15\n",
    "    sbs = SFS(org, \n",
    "          forward=False,\n",
    "          floating=False,\n",
    "          k_features=k,\n",
    "          scoring='neg_mean_squared_error',\n",
    "          cv=2)\n",
    "    sbs.fit(x_train1.values, y_train1.values)\n",
    "    print(sbs.k_feature_names_)"
   ]
  },
  {
   "cell_type": "code",
   "execution_count": 144,
   "metadata": {},
   "outputs": [],
   "source": [
    "\n",
    "def FeatureSelectionBackward(q1):\n",
    "    org=lm\n",
    "    print(\"Training Data\")\n",
    "    Data1=trainModel(q1)\n",
    "    print('train')\n",
    "    y_train1=Data1.int_rt\n",
    "    Data1.drop('int_rt',axis=1,inplace=True)\n",
    "    x_train1=Data1\n",
    "    print('---------------')\n",
    "    Backward_Selection(org,x_train1,y_train1)\n",
    "    "
   ]
  },
  {
   "cell_type": "code",
   "execution_count": 145,
   "metadata": {},
   "outputs": [],
   "source": [
    "# Exhaustive Feature Selection\n",
    "def FeatureSelectionexhaustive(q1):\n",
    "    org=lm\n",
    "    print(\"Training Data\")\n",
    "    Data1=trainModel(q1)\n",
    "    print('train')\n",
    "    y_train1=Data1.int_rt\n",
    "    Data1.drop('int_rt',axis=1,inplace=True)\n",
    "    x_train1=Data1\n",
    "    print('---------------')\n",
    "    Exhaustive_search(org,x_train1,y_train1)"
   ]
  },
  {
   "cell_type": "code",
   "execution_count": 146,
   "metadata": {},
   "outputs": [],
   "source": [
    "def Exhaustive_search(org,x_train1,y_train1):\n",
    "    k = 10\n",
    "    efs = EFS(org, \n",
    "          min_features=k,max_features=11,\n",
    "          scoring='neg_mean_squared_error',\n",
    "          cv=2)\n",
    "    efs.fit(x_train1.values, y_train1.values)\n",
    "    print(sbs.k_feature_names_)"
   ]
  },
  {
   "cell_type": "markdown",
   "metadata": {},
   "source": [
    "# Linear Regression"
   ]
  },
  {
   "cell_type": "code",
   "execution_count": 147,
   "metadata": {},
   "outputs": [],
   "source": [
    "def linearRegression(org,x,y):\n",
    "    org.fit(x,y) \n",
    "    score=org.score(x,y) \n",
    "    pd.DataFrame(list(zip(x.columns,org.coef_)),columns=[\"features\",\"estimatedCoefficients\"])\n",
    "    pred=org.predict(x)\n",
    "    sc=r2_score(y,pred)\n",
    "    print(\"linear regression:\")\n",
    "    print(sc)\n",
    "    return org"
   ]
  },
  {
   "cell_type": "code",
   "execution_count": 148,
   "metadata": {},
   "outputs": [],
   "source": [
    "def checkAllReqColumns(df):\n",
    "    cols_to_keep=['fico','flag_fthbN','flag_fthbX','flag_fthbY','mi_pct','cnt_units','occpy_stsl','occpy_stsO','occpy_stsS','cltv','dti','orig_upb','ltv','int_rt','channelB','channelC','channelR','channelT','ppmt_pnltyN','ppmt_pnltyX','ppmt_pnltyY','prop_typeCO','prop_typeCP','prop_typeLH','prop_typeMH','prop_typePU','prop_typeSF','prop_typeXX','loan_purposeC','loan_purposeN','loan_purposeP','orig_loan_term','cnt_borr']\n",
    "    for x in cols_to_keep:\n",
    "        if not x in df.columns:\n",
    "            df[x]=0.0\n",
    "    return df  "
   ]
  },
  {
   "cell_type": "code",
   "execution_count": null,
   "metadata": {},
   "outputs": [],
   "source": [
    "def computations(org,x,y):\n",
    "    testlr=org.predict(x)\n",
    "    #Mean Absolute Error \n",
    "    mae=mean_absolute_error(y,testlr);\n",
    "    print(\"MAE:\"+str(mae))\n",
    "    #RMSE \n",
    "    rmse=math.sqrt(mean_squared_error(y,testlr))\n",
    "    print(\"RMSE:\"+str(rmse))\n",
    "    #Median Absolute error\n",
    "    Medae=median_absolute_error(y,testlr)\n",
    "    print(\"Median Absolute Error:\"+str(Medae))"
   ]
  },
  {
   "cell_type": "code",
   "execution_count": 150,
   "metadata": {},
   "outputs": [],
   "source": [
    "   \n",
    "def calc_error_metric(modelname, model, X_train_scale, y_train, X_test_scale, y_test):\n",
    "    global error_metric\n",
    "    y_train_predicted = model.predict(X_train_scale)\n",
    "    y_test_predicted = model.predict(X_test_scale)\n",
    "        \n",
    "    #MAE, RMS, MAPE, R2\n",
    "    \n",
    "    r2_train = r2_score(y_train, y_train_predicted)\n",
    "    r2_test = r2_score(y_test, y_test_predicted)\n",
    "    \n",
    "    rms_train = sqrt(mean_squared_error(y_train, y_train_predicted))\n",
    "    rms_test = sqrt(mean_squared_error(y_test, y_test_predicted))\n",
    "        \n",
    "    mae_train = mean_absolute_error(y_train, y_train_predicted)\n",
    "    mae_test = mean_absolute_error(y_test, y_test_predicted)\n",
    "        \n",
    "    mape_train = np.mean(np.abs((y_train - y_train_predicted) / y_train)) * 100\n",
    "    mape_test = np.mean(np.abs((y_test - y_test_predicted) / y_test)) * 100\n",
    "        \n",
    "    rmse_dict[modelname] = rms_test\n",
    "        \n",
    "    df_local = pd.DataFrame({'Model':[modelname],\n",
    "                            'r2_train': [r2_train],\n",
    "                            'r2_test': [r2_test],\n",
    "                            'rms_train':[rms_train], \n",
    "                            'rms_test': [rms_test],\n",
    "                            'mae_train': [mae_train],\n",
    "                            'mae_test': [mae_test],\n",
    "                            'mape_train':[mape_train],\n",
    "                            'mape_test':[mape_test]})\n",
    "        \n",
    "    error_metric = pd.concat([error_metric, df_local])\n",
    "    return error_metric"
   ]
  },
  {
   "cell_type": "code",
   "execution_count": 151,
   "metadata": {},
   "outputs": [],
   "source": [
    "def LinearRegressionAnalysis(q1,q2):\n",
    "    org=lm\n",
    "    Data1=trainModel(q1)\n",
    "    TestData1=trainModel(q2)\n",
    "    Data1=checkAllReqColumns(Data1)\n",
    "    TestData1=checkAllReqColumns(TestData1)\n",
    "\n",
    "    y_train1=Data1.int_rt\n",
    "    Data1=Data1.drop('int_rt',axis=1)\n",
    "    x_train1=Data1\n",
    "    orglr1=linearRegression(org,x_train1,y_train1) \n",
    "    print(\"Linear Regression---------\")\n",
    "    print(\"Training Data\")\n",
    "    computations(orglr1,x_train1,y_train1)\n",
    "    print(\"Testing Data:\")\n",
    "    y_test1=TestData1.int_rt\n",
    "    TestData1.drop('int_rt',axis=1,inplace=True)\n",
    "    x_test1=TestData1\n",
    "    computations(orglr1,x_test1,y_test1)\n",
    "    calc_error_metric('Linear Regression', org, x_train1, y_train1, x_test1, y_test1)\n",
    "    print('Linear Regression Peformed')\n",
    "    fig, ax = plt.subplots(figsize=(9,9))\n",
    "    plt.scatter(orglr1.predict(x_train1),orglr1.predict(x_train1)-y_train1,c='b',s=40,alpha=0.5)\n",
    "    plt.scatter(orglr1.predict(x_test1),orglr1.predict(x_test1)-y_test1,c=\"g\",s=40)\n",
    "    plt.hlines(y=0,xmin=2,xmax=10)\n",
    "    plt.title('Residual plot using training(blue) and test(green) data')\n",
    "    plt.ylabel('Residuals')\n",
    "    fig1, ax1 = plt.subplots(figsize=(9,9))\n",
    "    predictions = orglr1.predict( x_test1)\n",
    "    sns.distplot((y_test1-predictions),bins=50)"
   ]
  },
  {
   "cell_type": "markdown",
   "metadata": {},
   "source": [
    "# Random Forest"
   ]
  },
  {
   "cell_type": "code",
   "execution_count": 152,
   "metadata": {},
   "outputs": [],
   "source": [
    "def RandomForestAnalysis(q1,q2):\n",
    "    Data1=trainModel(q1)\n",
    "    TestData1=trainModel(q2)\n",
    "    Data1=checkAllReqColumns(Data1)\n",
    "    TestData1=checkAllReqColumns(TestData1)\n",
    "    print(\"Training Data\")\n",
    "    y_train1=Data1.int_rt\n",
    "    Data1=Data1.drop('int_rt',axis=1)\n",
    "    x_train1=Data1\n",
    "\n",
    "    regr_rf=RandomForestRegressor(max_depth=8)\n",
    "    regr_rf.fit(x_train1,y_train1)\n",
    "    print(\"Random Forest-------------\")\n",
    "    print(\"Training Data:\")\n",
    "    computations(regr_rf,x_train1,y_train1)\n",
    "    print(\"Testing Data:\")\n",
    "    y_test1=TestData1.int_rt\n",
    "    TestData1.drop('int_rt',axis=1,inplace=True)\n",
    "    x_test1=TestData1\n",
    "    computations(regr_rf,x_test1,y_test1)\n",
    "    calc_error_metric('Random Forest Regressor', regr_rf, x_train1, y_train1, x_test1, y_test1)\n",
    "    print('Random Forest Regression Peformed')\n",
    "    plt.scatter(regr_rf.predict(x_train1),regr_rf.predict(x_train1)-y_train1,c='b',s=40,alpha=0.5)\n",
    "    plt.scatter(regr_rf.predict(x_test1),regr_rf.predict(x_test1)-y_test1,c=\"g\",s=40)\n",
    "    plt.hlines(y=0,xmin=2,xmax=10)\n",
    "    plt.title('Residual plot using training(blue) and test(green) data')\n",
    "    plt.ylabel('Residuals')\n",
    "    fig1, ax1 = plt.subplots(figsize=(9,9))\n",
    "    predictions = regr_rf.predict( x_test1)\n",
    "    sns.distplot((y_test1-predictions),bins=50)"
   ]
  },
  {
   "cell_type": "markdown",
   "metadata": {},
   "source": [
    "# AutoSKLearn"
   ]
  },
  {
   "cell_type": "code",
   "execution_count": 153,
   "metadata": {},
   "outputs": [],
   "source": [
    "# import sklearn.model_selection\n",
    "# import sklearn.datasets\n",
    "# import sklearn.metrics\n",
    "\n",
    "# import autosklearn.regression\n",
    "\n",
    "# def auto_sklearn(q1, q2):\n",
    "#     Data1=trainModel(q1)\n",
    "#     Data1=checkAllReqColumns(Data1)\n",
    "#     y_train1=Data1.int_rt\n",
    "#     Data1.drop('int_rt',axis=1,inplace=True)\n",
    "#     x_train1 = Data1\n",
    "#     TestData1=trainModel(q2)\n",
    "#     TestData1=checkAllReqColumns(TestData1)\n",
    "#     y_test1=TestData1.int_rt\n",
    "#     TestData1.drop('int_rt',axis=1,inplace=True)\n",
    "#     x_test1=TestData1\n",
    "# #     print(\"Performance on Election year's Data\") \n",
    "# #     computations(regr_rf,x_test1,y_test1)\n",
    "# #     feature_types = (['numerical'] * 3) + ['categorical'] + (['numerical'] * 9)\n",
    "# #     X_train, X_test, y_train, y_test = \\\n",
    "# #     sklearn.model_selection.train_test_split(X, y, random_state=1)\n",
    "\n",
    "#     automl = autosklearn.regression.AutoSklearnRegressor(\n",
    "#         time_left_for_this_task=120,\n",
    "#         per_run_time_limit=30\n",
    "#     )\n",
    "#     automl.fit(x_train1, y_train1, dataset_name='FreddieMacLoan')\n",
    "\n",
    "#     print(automl.show_models())\n",
    "#     predictions = automl.predict(x_test1)\n",
    "#     print(\"R2 score:\", sklearn.metrics.r2_score(y_test1, predictions))\n"
   ]
  },
  {
   "cell_type": "markdown",
   "metadata": {},
   "source": [
    "# What if Analysis\n",
    "## Financial Crisis"
   ]
  },
  {
   "cell_type": "code",
   "execution_count": 57,
   "metadata": {},
   "outputs": [],
   "source": [
    "def Financial_Crisis():\n",
    "    quarter_training=['Q12007', 'Q22007', 'Q32007', 'Q42007']\n",
    "    for q in quarter_training:\n",
    "        Data1=trainModel(q)\n",
    "        Data1=checkAllReqColumns(Data1)\n",
    "        y_train1=Data1.int_rt\n",
    "        Data1.drop('int_rt',axis=1,inplace=True)\n",
    "        x_train1=Data1\n",
    "        from sklearn.ensemble import RandomForestRegressor\n",
    "        regr_rf=RandomForestRegressor(n_estimators= 200,oob_score=True,n_jobs = -1,random_state=50,max_features = \"auto\",max_depth=12)\n",
    "        regr_rf.fit(x_train1,y_train1)\n",
    "        print(\"Financial Crisis Analysis for Quarter \"+ str(q)+\" as a training data\")\n",
    "        print(\"Training Data:\")\n",
    "        computations(regr_rf,x_train1,y_train1)\n",
    "    quarter_testing=['Q22007','Q32007','Q42007','Q12008']\n",
    "    for qt in quarter_testing:\n",
    "        TestData1=trainModel(qt)\n",
    "        TestData1=checkAllReqColumns(TestData1)\n",
    "        y_test1=TestData1.int_rt\n",
    "        TestData1.drop('int_rt',axis=1,inplace=True)\n",
    "        x_test1=TestData1\n",
    "        print(\"Financial Crisis Analysis for Quarter \"+ str(qt)+\" as a testing data\")\n",
    "        print(\"Testing Data\") \n",
    "        computations(regr_rf,x_test1,y_test1)"
   ]
  },
  {
   "cell_type": "markdown",
   "metadata": {},
   "source": [
    "# Economic Boom"
   ]
  },
  {
   "cell_type": "code",
   "execution_count": 169,
   "metadata": {},
   "outputs": [],
   "source": [
    "#1999, 2013\n",
    "# the  site https://www.thebalance.com/stock-market-returns-by-year-2388543 describes the year 1999 and 2013 as the ones with return on \n",
    "# stock market as 21% and 32% respectively. \n",
    "def economic_boom(quarter):\n",
    "    Data1=trainModel(quarter)\n",
    "    Data1=checkAllReqColumns(Data1)\n",
    "    y_train1=Data1.int_rt\n",
    "    Data1.drop('int_rt',axis=1,inplace=True)\n",
    "    x_train1=Data1\n",
    "    from sklearn.ensemble import RandomForestRegressor\n",
    "    regr_rf=RandomForestRegressor(n_estimators= 100,oob_score=True,n_jobs = -1,random_state=50,max_features = 20,max_depth=12)\n",
    "    regr_rf.fit(x_train1,y_train1)\n",
    "    print(\"Training Data for quarter that user has input:\")\n",
    "    computations(regr_rf,x_train1,y_train1)\n",
    "    quarter_testing=['Q11999','Q41999','Q12013','Q42013']\n",
    "    for qt in quarter_testing:\n",
    "        TestData1=trainModel(qt)\n",
    "        TestData1=checkAllReqColumns(TestData1)\n",
    "        y_test1=TestData1.int_rt\n",
    "        TestData1.drop('int_rt',axis=1,inplace=True)\n",
    "        x_test1=TestData1\n",
    "        print(\"Performance on Economic Boom year's Data\") \n",
    "        computations(regr_rf,x_test1,y_test1)\n",
    "        "
   ]
  },
  {
   "cell_type": "markdown",
   "metadata": {},
   "source": [
    "# Regime change (2016) from election "
   ]
  },
  {
   "cell_type": "code",
   "execution_count": 155,
   "metadata": {},
   "outputs": [],
   "source": [
    "# here lets consider the quarter4 \n",
    "# of 2015 as training data and see if the model \n",
    "# predicts correctly for the quarter1 of the election year 2016\n",
    "\n",
    "def regime_change_election():\n",
    "    quarter_election_yr= 'Q42015'\n",
    "    Data1=trainModel(quarter_election_yr)\n",
    "    Data1=checkAllReqColumns(Data1)\n",
    "    y_train1=Data1.int_rt\n",
    "    Data1.drop('int_rt',axis=1,inplace=True)\n",
    "    x_train1=Data1\n",
    "    from sklearn.ensemble import RandomForestRegressor\n",
    "    regr_rf=RandomForestRegressor(n_estimators= 50,oob_score=True,n_jobs = -1,random_state=50,max_features = \"auto\",max_depth=12)\n",
    "    regr_rf.fit(x_train1,y_train1)\n",
    "    print(\"Training Data Results:\")\n",
    "    computations(regr_rf,x_train1,y_train1)\n",
    "    quarter_testing=['Q12016','Q42016']\n",
    "    for qt in quarter_testing:\n",
    "        TestData1=trainModel(qt)\n",
    "        TestData1=checkAllReqColumns(TestData1)\n",
    "        y_test1=TestData1.int_rt\n",
    "        TestData1.drop('int_rt',axis=1,inplace=True)\n",
    "        x_test1=TestData1\n",
    "        print(\"Performance on Election year's Data\") \n",
    "        computations(regr_rf,x_test1,y_test1)"
   ]
  },
  {
   "cell_type": "code",
   "execution_count": 157,
   "metadata": {},
   "outputs": [
    {
     "name": "stdout",
     "output_type": "stream",
     "text": [
      "Enter UserName\n",
      "agrawal.ritu@husky.neu.edu\n"
     ]
    }
   ],
   "source": [
    "print('Enter UserName')\n",
    "USERNAME=input()\n",
    "if not USERNAME:\n",
    "    print('Please input a valid Username')\n",
    "    exit()"
   ]
  },
  {
   "cell_type": "code",
   "execution_count": 158,
   "metadata": {},
   "outputs": [
    {
     "name": "stdout",
     "output_type": "stream",
     "text": [
      "Enter Password\n",
      "`KDhow<A\n"
     ]
    }
   ],
   "source": [
    "print('Enter Password')\n",
    "PASSWORD=input()\n",
    "if not PASSWORD:\n",
    "    print('Please input a valid password')\n",
    "    exit()"
   ]
  },
  {
   "cell_type": "code",
   "execution_count": 159,
   "metadata": {},
   "outputs": [
    {
     "name": "stdout",
     "output_type": "stream",
     "text": [
      "Enter the Quarter and year in this format: Q12005\n",
      "q12005\n"
     ]
    }
   ],
   "source": [
    "print('Enter the Quarter and year in this format: Q12005')\n",
    "quarter=input()\n",
    "quarter=quarter.upper()\n",
    "if not quarter:\n",
    "    print('This cannot be empty')\n",
    "    exit()"
   ]
  },
  {
   "cell_type": "code",
   "execution_count": 160,
   "metadata": {},
   "outputs": [
    {
     "name": "stdout",
     "output_type": "stream",
     "text": [
      "Q12005 Q22005\n"
     ]
    }
   ],
   "source": [
    "testquarter=quarter[:1]+'2'+quarter[2:]\n",
    "print(quarter,testquarter)"
   ]
  },
  {
   "cell_type": "code",
   "execution_count": 161,
   "metadata": {},
   "outputs": [
    {
     "name": "stdout",
     "output_type": "stream",
     "text": [
      "Starting\n",
      "USERNAME=agrawal.ritu@husky.neu.edu\n",
      "PASSWORD=`KDhow<A\n",
      "START QUARTER FOR TRAINING=Q12005\n",
      "SECOND QUARTER FOR TESTING=Q22005\n"
     ]
    }
   ],
   "source": [
    "ts = time.time()\n",
    "st = datetime.datetime.fromtimestamp(ts).strftime('%Y%m%d_%H%M%S')\n",
    "\n",
    "print(\"Starting\")\n",
    "print(\"USERNAME=\"+USERNAME)\n",
    "print(\"PASSWORD=\"+PASSWORD)\n",
    "print(\"START QUARTER FOR TRAINING=\"+(quarter))\n",
    "print(\"SECOND QUARTER FOR TESTING=\"+(testquarter))"
   ]
  },
  {
   "cell_type": "code",
   "execution_count": 162,
   "metadata": {},
   "outputs": [
    {
     "name": "stdout",
     "output_type": "stream",
     "text": [
      "loading saved cookies\n",
      "--------------------------------------------------------------------------------------\n",
      "C:\\Users\\ritua/HistoricalInputFiles\n",
      "https://freddiemac.embs.com/FLoan/Data/download.php?f=historical_data1_Q12005&s=292380058\n",
      "C:\\Users\\ritua/HistoricalInputFiles\n",
      "https://freddiemac.embs.com/FLoan/Data/download.php?f=historical_data1_Q22005&s=330868332\n"
     ]
    },
    {
     "name": "stderr",
     "output_type": "stream",
     "text": [
      "\n",
      "\n",
      "  0%|                                                                                            | 0/2 [00:00<?, ?it/s]\n",
      "\n",
      "Downloading https://freddiemac.embs.com/FLoan/Data/download.php?f=historical_data1_Q12005&s=292380058:   0%| | 0/2 [00:00<?, ?it/s]\n",
      "\n",
      "Downloading https://freddiemac.embs.com/FLoan/Data/download.php?f=historical_data1_Q12005&s=292380058:  50%|▌| 1/2 [01:24<01:24, 84.38s/it]\n",
      "\n",
      "Downloading https://freddiemac.embs.com/FLoan/Data/download.php?f=historical_data1_Q22005&s=330868332:  50%|▌| 1/2 [01:24<01:24, 84.38s/it]\n",
      "\n",
      "Downloading https://freddiemac.embs.com/FLoan/Data/download.php?f=historical_data1_Q22005&s=330868332: 100%|█| 2/2 [02:57<00:00, 87.13s/it]\n",
      "\n"
     ]
    }
   ],
   "source": [
    "download_file_for_quarter(quarter)\n",
    "    "
   ]
  },
  {
   "cell_type": "code",
   "execution_count": 163,
   "metadata": {},
   "outputs": [
    {
     "name": "stdout",
     "output_type": "stream",
     "text": [
      "loading saved cookies\n",
      "--------------------------------------------------------------------------------------\n",
      "C:\\Users\\ritua/HistoricalInputFiles\n",
      "https://freddiemac.embs.com/FLoan/Data/download.php?f=historical_data1_Q22005&s=330868332\n"
     ]
    },
    {
     "name": "stderr",
     "output_type": "stream",
     "text": [
      "\n",
      "\n",
      "  0%|                                                                                            | 0/1 [00:00<?, ?it/s]\n",
      "\n",
      "Downloading https://freddiemac.embs.com/FLoan/Data/download.php?f=historical_data1_Q22005&s=330868332:   0%| | 0/1 [00:00<?, ?it/s]\n",
      "\n",
      "Downloading https://freddiemac.embs.com/FLoan/Data/download.php?f=historical_data1_Q22005&s=330868332: 100%|█| 1/1 [02:02<00:00, 122.61s/it]\n",
      "\n"
     ]
    }
   ],
   "source": [
    "download_file_for_quarter(testquarter)"
   ]
  },
  {
   "cell_type": "code",
   "execution_count": 67,
   "metadata": {},
   "outputs": [
    {
     "data": {
      "text/html": [
       "<div>\n",
       "<style scoped>\n",
       "    .dataframe tbody tr th:only-of-type {\n",
       "        vertical-align: middle;\n",
       "    }\n",
       "\n",
       "    .dataframe tbody tr th {\n",
       "        vertical-align: top;\n",
       "    }\n",
       "\n",
       "    .dataframe thead th {\n",
       "        text-align: right;\n",
       "    }\n",
       "</style>\n",
       "<table border=\"1\" class=\"dataframe\">\n",
       "  <thead>\n",
       "    <tr style=\"text-align: right;\">\n",
       "      <th></th>\n",
       "      <th>fico</th>\n",
       "      <th>dt_first_pi</th>\n",
       "      <th>flag_fthb</th>\n",
       "      <th>dt_matr</th>\n",
       "      <th>cd_msa</th>\n",
       "      <th>mi_pct</th>\n",
       "      <th>cnt_units</th>\n",
       "      <th>occpy_sts</th>\n",
       "      <th>cltv</th>\n",
       "      <th>dti</th>\n",
       "      <th>...</th>\n",
       "      <th>st</th>\n",
       "      <th>prop_type</th>\n",
       "      <th>zipcode</th>\n",
       "      <th>id_loan</th>\n",
       "      <th>loan_purpose</th>\n",
       "      <th>orig_loan_term</th>\n",
       "      <th>cnt_borr</th>\n",
       "      <th>seller_name</th>\n",
       "      <th>servicer_name</th>\n",
       "      <th>flag_sc</th>\n",
       "    </tr>\n",
       "  </thead>\n",
       "  <tbody>\n",
       "    <tr>\n",
       "      <th>0</th>\n",
       "      <td>715</td>\n",
       "      <td>200508</td>\n",
       "      <td>N</td>\n",
       "      <td>203507</td>\n",
       "      <td>33700.0</td>\n",
       "      <td>0</td>\n",
       "      <td>1</td>\n",
       "      <td>P</td>\n",
       "      <td>58</td>\n",
       "      <td>41</td>\n",
       "      <td>...</td>\n",
       "      <td>CA</td>\n",
       "      <td>SF</td>\n",
       "      <td>95300.0</td>\n",
       "      <td>F105Q2000001</td>\n",
       "      <td>C</td>\n",
       "      <td>360</td>\n",
       "      <td>2</td>\n",
       "      <td>Other sellers</td>\n",
       "      <td>WELLSFARGOBANK,NA</td>\n",
       "      <td>NaN</td>\n",
       "    </tr>\n",
       "    <tr>\n",
       "      <th>1</th>\n",
       "      <td>743</td>\n",
       "      <td>200508</td>\n",
       "      <td>N</td>\n",
       "      <td>203507</td>\n",
       "      <td>NaN</td>\n",
       "      <td>0</td>\n",
       "      <td>1</td>\n",
       "      <td>P</td>\n",
       "      <td>80</td>\n",
       "      <td>36</td>\n",
       "      <td>...</td>\n",
       "      <td>IL</td>\n",
       "      <td>SF</td>\n",
       "      <td>62400.0</td>\n",
       "      <td>F105Q2000002</td>\n",
       "      <td>N</td>\n",
       "      <td>360</td>\n",
       "      <td>2</td>\n",
       "      <td>Other sellers</td>\n",
       "      <td>PNCMTGESERVICES,INC</td>\n",
       "      <td>NaN</td>\n",
       "    </tr>\n",
       "    <tr>\n",
       "      <th>2</th>\n",
       "      <td>772</td>\n",
       "      <td>200508</td>\n",
       "      <td>N</td>\n",
       "      <td>203507</td>\n",
       "      <td>37860.0</td>\n",
       "      <td>0</td>\n",
       "      <td>1</td>\n",
       "      <td>P</td>\n",
       "      <td>80</td>\n",
       "      <td>34</td>\n",
       "      <td>...</td>\n",
       "      <td>FL</td>\n",
       "      <td>PU</td>\n",
       "      <td>32500.0</td>\n",
       "      <td>F105Q2000003</td>\n",
       "      <td>P</td>\n",
       "      <td>360</td>\n",
       "      <td>1</td>\n",
       "      <td>Other sellers</td>\n",
       "      <td>Other servicers</td>\n",
       "      <td>NaN</td>\n",
       "    </tr>\n",
       "    <tr>\n",
       "      <th>3</th>\n",
       "      <td>773</td>\n",
       "      <td>200507</td>\n",
       "      <td>N</td>\n",
       "      <td>203506</td>\n",
       "      <td>NaN</td>\n",
       "      <td>0</td>\n",
       "      <td>1</td>\n",
       "      <td>P</td>\n",
       "      <td>64</td>\n",
       "      <td>60</td>\n",
       "      <td>...</td>\n",
       "      <td>MN</td>\n",
       "      <td>SF</td>\n",
       "      <td>56300.0</td>\n",
       "      <td>F105Q2000004</td>\n",
       "      <td>N</td>\n",
       "      <td>360</td>\n",
       "      <td>2</td>\n",
       "      <td>Other sellers</td>\n",
       "      <td>USBANKNA</td>\n",
       "      <td>NaN</td>\n",
       "    </tr>\n",
       "    <tr>\n",
       "      <th>4</th>\n",
       "      <td>647</td>\n",
       "      <td>200508</td>\n",
       "      <td>N</td>\n",
       "      <td>203507</td>\n",
       "      <td>NaN</td>\n",
       "      <td>30</td>\n",
       "      <td>1</td>\n",
       "      <td>P</td>\n",
       "      <td>91</td>\n",
       "      <td>28</td>\n",
       "      <td>...</td>\n",
       "      <td>MI</td>\n",
       "      <td>SF</td>\n",
       "      <td>49200.0</td>\n",
       "      <td>F105Q2000005</td>\n",
       "      <td>N</td>\n",
       "      <td>360</td>\n",
       "      <td>1</td>\n",
       "      <td>Other sellers</td>\n",
       "      <td>Other servicers</td>\n",
       "      <td>NaN</td>\n",
       "    </tr>\n",
       "  </tbody>\n",
       "</table>\n",
       "<p>5 rows × 26 columns</p>\n",
       "</div>"
      ],
      "text/plain": [
       "   fico  dt_first_pi flag_fthb  dt_matr   cd_msa  mi_pct  cnt_units occpy_sts  \\\n",
       "0   715       200508         N   203507  33700.0       0          1         P   \n",
       "1   743       200508         N   203507      NaN       0          1         P   \n",
       "2   772       200508         N   203507  37860.0       0          1         P   \n",
       "3   773       200507         N   203506      NaN       0          1         P   \n",
       "4   647       200508         N   203507      NaN      30          1         P   \n",
       "\n",
       "   cltv  dti   ...    st  prop_type  zipcode       id_loan loan_purpose  \\\n",
       "0    58   41   ...    CA         SF  95300.0  F105Q2000001            C   \n",
       "1    80   36   ...    IL         SF  62400.0  F105Q2000002            N   \n",
       "2    80   34   ...    FL         PU  32500.0  F105Q2000003            P   \n",
       "3    64   60   ...    MN         SF  56300.0  F105Q2000004            N   \n",
       "4    91   28   ...    MI         SF  49200.0  F105Q2000005            N   \n",
       "\n",
       "  orig_loan_term cnt_borr    seller_name        servicer_name flag_sc  \n",
       "0            360        2  Other sellers    WELLSFARGOBANK,NA     NaN  \n",
       "1            360        2  Other sellers  PNCMTGESERVICES,INC     NaN  \n",
       "2            360        1  Other sellers      Other servicers     NaN  \n",
       "3            360        2  Other sellers             USBANKNA     NaN  \n",
       "4            360        1  Other sellers      Other servicers     NaN  \n",
       "\n",
       "[5 rows x 26 columns]"
      ]
     },
     "execution_count": 67,
     "metadata": {},
     "output_type": "execute_result"
    }
   ],
   "source": [
    "train=quarter\n",
    "test=testquarter\n",
    "foldername= 'HistoricalInputFiles'\n",
    "Historicalpath=str(os.getcwd())+\"\\\\\"+foldername\n",
    "filename=Historicalpath+\"\\historical_data1_\"+str(quarter)+\".txt\" \n",
    "df_train = pd.read_csv(filename ,sep=\"|\", names=['fico','dt_first_pi','flag_fthb','dt_matr','cd_msa',\"mi_pct\",'cnt_units','occpy_sts','cltv','dti','orig_upb','ltv','int_rt','channel','ppmt_pnlty','prod_type','st', 'prop_type','zipcode','id_loan','loan_purpose', 'orig_loan_term','cnt_borr','seller_name','servicer_name','flag_sc'],skipinitialspace=True) \n",
    "filename=Historicalpath+\"\\historical_data1_\"+str(testquarter)+\".txt\" \n",
    "df_test = pd.read_csv(filename ,sep=\"|\", names=['fico','dt_first_pi','flag_fthb','dt_matr','cd_msa',\"mi_pct\",'cnt_units','occpy_sts','cltv','dti','orig_upb','ltv','int_rt','channel','ppmt_pnlty','prod_type','st', 'prop_type','zipcode','id_loan','loan_purpose', 'orig_loan_term','cnt_borr','seller_name','servicer_name','flag_sc'],skipinitialspace=True) \n",
    "df_train.head()\n"
   ]
  },
  {
   "cell_type": "code",
   "execution_count": 68,
   "metadata": {},
   "outputs": [
    {
     "data": {
      "text/html": [
       "<div>\n",
       "<style scoped>\n",
       "    .dataframe tbody tr th:only-of-type {\n",
       "        vertical-align: middle;\n",
       "    }\n",
       "\n",
       "    .dataframe tbody tr th {\n",
       "        vertical-align: top;\n",
       "    }\n",
       "\n",
       "    .dataframe thead th {\n",
       "        text-align: right;\n",
       "    }\n",
       "</style>\n",
       "<table border=\"1\" class=\"dataframe\">\n",
       "  <thead>\n",
       "    <tr style=\"text-align: right;\">\n",
       "      <th></th>\n",
       "      <th>fico</th>\n",
       "      <th>dt_first_pi</th>\n",
       "      <th>flag_fthb</th>\n",
       "      <th>dt_matr</th>\n",
       "      <th>cd_msa</th>\n",
       "      <th>mi_pct</th>\n",
       "      <th>cnt_units</th>\n",
       "      <th>occpy_sts</th>\n",
       "      <th>cltv</th>\n",
       "      <th>dti</th>\n",
       "      <th>...</th>\n",
       "      <th>st</th>\n",
       "      <th>prop_type</th>\n",
       "      <th>zipcode</th>\n",
       "      <th>id_loan</th>\n",
       "      <th>loan_purpose</th>\n",
       "      <th>orig_loan_term</th>\n",
       "      <th>cnt_borr</th>\n",
       "      <th>seller_name</th>\n",
       "      <th>servicer_name</th>\n",
       "      <th>flag_sc</th>\n",
       "    </tr>\n",
       "  </thead>\n",
       "  <tbody>\n",
       "    <tr>\n",
       "      <th>0</th>\n",
       "      <td>715</td>\n",
       "      <td>200508</td>\n",
       "      <td>N</td>\n",
       "      <td>203507</td>\n",
       "      <td>33700.0</td>\n",
       "      <td>0</td>\n",
       "      <td>1</td>\n",
       "      <td>P</td>\n",
       "      <td>58</td>\n",
       "      <td>41</td>\n",
       "      <td>...</td>\n",
       "      <td>CA</td>\n",
       "      <td>SF</td>\n",
       "      <td>95300.0</td>\n",
       "      <td>F105Q2000001</td>\n",
       "      <td>C</td>\n",
       "      <td>360</td>\n",
       "      <td>2</td>\n",
       "      <td>Other sellers</td>\n",
       "      <td>WELLSFARGOBANK,NA</td>\n",
       "      <td>NaN</td>\n",
       "    </tr>\n",
       "    <tr>\n",
       "      <th>1</th>\n",
       "      <td>743</td>\n",
       "      <td>200508</td>\n",
       "      <td>N</td>\n",
       "      <td>203507</td>\n",
       "      <td>NaN</td>\n",
       "      <td>0</td>\n",
       "      <td>1</td>\n",
       "      <td>P</td>\n",
       "      <td>80</td>\n",
       "      <td>36</td>\n",
       "      <td>...</td>\n",
       "      <td>IL</td>\n",
       "      <td>SF</td>\n",
       "      <td>62400.0</td>\n",
       "      <td>F105Q2000002</td>\n",
       "      <td>N</td>\n",
       "      <td>360</td>\n",
       "      <td>2</td>\n",
       "      <td>Other sellers</td>\n",
       "      <td>PNCMTGESERVICES,INC</td>\n",
       "      <td>NaN</td>\n",
       "    </tr>\n",
       "    <tr>\n",
       "      <th>2</th>\n",
       "      <td>772</td>\n",
       "      <td>200508</td>\n",
       "      <td>N</td>\n",
       "      <td>203507</td>\n",
       "      <td>37860.0</td>\n",
       "      <td>0</td>\n",
       "      <td>1</td>\n",
       "      <td>P</td>\n",
       "      <td>80</td>\n",
       "      <td>34</td>\n",
       "      <td>...</td>\n",
       "      <td>FL</td>\n",
       "      <td>PU</td>\n",
       "      <td>32500.0</td>\n",
       "      <td>F105Q2000003</td>\n",
       "      <td>P</td>\n",
       "      <td>360</td>\n",
       "      <td>1</td>\n",
       "      <td>Other sellers</td>\n",
       "      <td>Other servicers</td>\n",
       "      <td>NaN</td>\n",
       "    </tr>\n",
       "    <tr>\n",
       "      <th>3</th>\n",
       "      <td>773</td>\n",
       "      <td>200507</td>\n",
       "      <td>N</td>\n",
       "      <td>203506</td>\n",
       "      <td>NaN</td>\n",
       "      <td>0</td>\n",
       "      <td>1</td>\n",
       "      <td>P</td>\n",
       "      <td>64</td>\n",
       "      <td>60</td>\n",
       "      <td>...</td>\n",
       "      <td>MN</td>\n",
       "      <td>SF</td>\n",
       "      <td>56300.0</td>\n",
       "      <td>F105Q2000004</td>\n",
       "      <td>N</td>\n",
       "      <td>360</td>\n",
       "      <td>2</td>\n",
       "      <td>Other sellers</td>\n",
       "      <td>USBANKNA</td>\n",
       "      <td>NaN</td>\n",
       "    </tr>\n",
       "    <tr>\n",
       "      <th>4</th>\n",
       "      <td>647</td>\n",
       "      <td>200508</td>\n",
       "      <td>N</td>\n",
       "      <td>203507</td>\n",
       "      <td>NaN</td>\n",
       "      <td>30</td>\n",
       "      <td>1</td>\n",
       "      <td>P</td>\n",
       "      <td>91</td>\n",
       "      <td>28</td>\n",
       "      <td>...</td>\n",
       "      <td>MI</td>\n",
       "      <td>SF</td>\n",
       "      <td>49200.0</td>\n",
       "      <td>F105Q2000005</td>\n",
       "      <td>N</td>\n",
       "      <td>360</td>\n",
       "      <td>1</td>\n",
       "      <td>Other sellers</td>\n",
       "      <td>Other servicers</td>\n",
       "      <td>NaN</td>\n",
       "    </tr>\n",
       "  </tbody>\n",
       "</table>\n",
       "<p>5 rows × 26 columns</p>\n",
       "</div>"
      ],
      "text/plain": [
       "   fico  dt_first_pi flag_fthb  dt_matr   cd_msa  mi_pct  cnt_units occpy_sts  \\\n",
       "0   715       200508         N   203507  33700.0       0          1         P   \n",
       "1   743       200508         N   203507      NaN       0          1         P   \n",
       "2   772       200508         N   203507  37860.0       0          1         P   \n",
       "3   773       200507         N   203506      NaN       0          1         P   \n",
       "4   647       200508         N   203507      NaN      30          1         P   \n",
       "\n",
       "   cltv  dti   ...    st  prop_type  zipcode       id_loan loan_purpose  \\\n",
       "0    58   41   ...    CA         SF  95300.0  F105Q2000001            C   \n",
       "1    80   36   ...    IL         SF  62400.0  F105Q2000002            N   \n",
       "2    80   34   ...    FL         PU  32500.0  F105Q2000003            P   \n",
       "3    64   60   ...    MN         SF  56300.0  F105Q2000004            N   \n",
       "4    91   28   ...    MI         SF  49200.0  F105Q2000005            N   \n",
       "\n",
       "  orig_loan_term cnt_borr    seller_name        servicer_name flag_sc  \n",
       "0            360        2  Other sellers    WELLSFARGOBANK,NA     NaN  \n",
       "1            360        2  Other sellers  PNCMTGESERVICES,INC     NaN  \n",
       "2            360        1  Other sellers      Other servicers     NaN  \n",
       "3            360        2  Other sellers             USBANKNA     NaN  \n",
       "4            360        1  Other sellers      Other servicers     NaN  \n",
       "\n",
       "[5 rows x 26 columns]"
      ]
     },
     "execution_count": 68,
     "metadata": {},
     "output_type": "execute_result"
    }
   ],
   "source": [
    "df_test.head()"
   ]
  },
  {
   "cell_type": "code",
   "execution_count": 69,
   "metadata": {},
   "outputs": [
    {
     "data": {
      "text/html": [
       "<div>\n",
       "<style scoped>\n",
       "    .dataframe tbody tr th:only-of-type {\n",
       "        vertical-align: middle;\n",
       "    }\n",
       "\n",
       "    .dataframe tbody tr th {\n",
       "        vertical-align: top;\n",
       "    }\n",
       "\n",
       "    .dataframe thead th {\n",
       "        text-align: right;\n",
       "    }\n",
       "</style>\n",
       "<table border=\"1\" class=\"dataframe\">\n",
       "  <thead>\n",
       "    <tr style=\"text-align: right;\">\n",
       "      <th></th>\n",
       "      <th>Features</th>\n",
       "      <th>MissingPercentage</th>\n",
       "    </tr>\n",
       "  </thead>\n",
       "  <tbody>\n",
       "    <tr>\n",
       "      <th>25</th>\n",
       "      <td>flag_sc</td>\n",
       "      <td>100.000000</td>\n",
       "    </tr>\n",
       "    <tr>\n",
       "      <th>4</th>\n",
       "      <td>cd_msa</td>\n",
       "      <td>15.551397</td>\n",
       "    </tr>\n",
       "    <tr>\n",
       "      <th>14</th>\n",
       "      <td>ppmt_pnlty</td>\n",
       "      <td>0.093279</td>\n",
       "    </tr>\n",
       "    <tr>\n",
       "      <th>18</th>\n",
       "      <td>zipcode</td>\n",
       "      <td>0.000569</td>\n",
       "    </tr>\n",
       "    <tr>\n",
       "      <th>24</th>\n",
       "      <td>servicer_name</td>\n",
       "      <td>0.000000</td>\n",
       "    </tr>\n",
       "    <tr>\n",
       "      <th>23</th>\n",
       "      <td>seller_name</td>\n",
       "      <td>0.000000</td>\n",
       "    </tr>\n",
       "    <tr>\n",
       "      <th>22</th>\n",
       "      <td>cnt_borr</td>\n",
       "      <td>0.000000</td>\n",
       "    </tr>\n",
       "    <tr>\n",
       "      <th>21</th>\n",
       "      <td>orig_loan_term</td>\n",
       "      <td>0.000000</td>\n",
       "    </tr>\n",
       "    <tr>\n",
       "      <th>20</th>\n",
       "      <td>loan_purpose</td>\n",
       "      <td>0.000000</td>\n",
       "    </tr>\n",
       "    <tr>\n",
       "      <th>19</th>\n",
       "      <td>id_loan</td>\n",
       "      <td>0.000000</td>\n",
       "    </tr>\n",
       "    <tr>\n",
       "      <th>17</th>\n",
       "      <td>prop_type</td>\n",
       "      <td>0.000000</td>\n",
       "    </tr>\n",
       "    <tr>\n",
       "      <th>16</th>\n",
       "      <td>st</td>\n",
       "      <td>0.000000</td>\n",
       "    </tr>\n",
       "    <tr>\n",
       "      <th>15</th>\n",
       "      <td>prod_type</td>\n",
       "      <td>0.000000</td>\n",
       "    </tr>\n",
       "    <tr>\n",
       "      <th>0</th>\n",
       "      <td>fico</td>\n",
       "      <td>0.000000</td>\n",
       "    </tr>\n",
       "    <tr>\n",
       "      <th>1</th>\n",
       "      <td>dt_first_pi</td>\n",
       "      <td>0.000000</td>\n",
       "    </tr>\n",
       "    <tr>\n",
       "      <th>12</th>\n",
       "      <td>int_rt</td>\n",
       "      <td>0.000000</td>\n",
       "    </tr>\n",
       "    <tr>\n",
       "      <th>11</th>\n",
       "      <td>ltv</td>\n",
       "      <td>0.000000</td>\n",
       "    </tr>\n",
       "    <tr>\n",
       "      <th>10</th>\n",
       "      <td>orig_upb</td>\n",
       "      <td>0.000000</td>\n",
       "    </tr>\n",
       "    <tr>\n",
       "      <th>9</th>\n",
       "      <td>dti</td>\n",
       "      <td>0.000000</td>\n",
       "    </tr>\n",
       "    <tr>\n",
       "      <th>8</th>\n",
       "      <td>cltv</td>\n",
       "      <td>0.000000</td>\n",
       "    </tr>\n",
       "    <tr>\n",
       "      <th>7</th>\n",
       "      <td>occpy_sts</td>\n",
       "      <td>0.000000</td>\n",
       "    </tr>\n",
       "    <tr>\n",
       "      <th>6</th>\n",
       "      <td>cnt_units</td>\n",
       "      <td>0.000000</td>\n",
       "    </tr>\n",
       "    <tr>\n",
       "      <th>5</th>\n",
       "      <td>mi_pct</td>\n",
       "      <td>0.000000</td>\n",
       "    </tr>\n",
       "    <tr>\n",
       "      <th>3</th>\n",
       "      <td>dt_matr</td>\n",
       "      <td>0.000000</td>\n",
       "    </tr>\n",
       "    <tr>\n",
       "      <th>2</th>\n",
       "      <td>flag_fthb</td>\n",
       "      <td>0.000000</td>\n",
       "    </tr>\n",
       "    <tr>\n",
       "      <th>13</th>\n",
       "      <td>channel</td>\n",
       "      <td>0.000000</td>\n",
       "    </tr>\n",
       "  </tbody>\n",
       "</table>\n",
       "</div>"
      ],
      "text/plain": [
       "          Features  MissingPercentage\n",
       "25         flag_sc         100.000000\n",
       "4           cd_msa          15.551397\n",
       "14      ppmt_pnlty           0.093279\n",
       "18         zipcode           0.000569\n",
       "24   servicer_name           0.000000\n",
       "23     seller_name           0.000000\n",
       "22        cnt_borr           0.000000\n",
       "21  orig_loan_term           0.000000\n",
       "20    loan_purpose           0.000000\n",
       "19         id_loan           0.000000\n",
       "17       prop_type           0.000000\n",
       "16              st           0.000000\n",
       "15       prod_type           0.000000\n",
       "0             fico           0.000000\n",
       "1      dt_first_pi           0.000000\n",
       "12          int_rt           0.000000\n",
       "11             ltv           0.000000\n",
       "10        orig_upb           0.000000\n",
       "9              dti           0.000000\n",
       "8             cltv           0.000000\n",
       "7        occpy_sts           0.000000\n",
       "6        cnt_units           0.000000\n",
       "5           mi_pct           0.000000\n",
       "3          dt_matr           0.000000\n",
       "2        flag_fthb           0.000000\n",
       "13         channel           0.000000"
      ]
     },
     "execution_count": 69,
     "metadata": {},
     "output_type": "execute_result"
    }
   ],
   "source": [
    "rowcnt = len(df_train.index)\n",
    "# Example data\n",
    "features = []\n",
    "missngpercnt = []\n",
    "#error = np.random.rand(len(features))\n",
    "if rowcnt > 0:\n",
    "    for x in df_train:\n",
    "        features.append(x)\n",
    "        prcnt = float(len(df_train[df_train[x].isnull()])) / float(rowcnt) * 100.0\n",
    "        missngpercnt.append(prcnt)\n",
    "else:\n",
    "    features = df_train.columns\n",
    "    missngpercnt = [0] * len(features)\n",
    "\n",
    "\n",
    "missingprcntdata = pd.DataFrame({'Features':features,'MissingPercentage':missngpercnt})\n",
    "missingprcntdata = missingprcntdata.sort_values('MissingPercentage',ascending =False)\n",
    "missingprcntdata"
   ]
  },
  {
   "cell_type": "code",
   "execution_count": 71,
   "metadata": {},
   "outputs": [],
   "source": [
    "from pathlib import Path\n",
    "from mlxtend.feature_selection import SequentialFeatureSelector as SFS\n",
    "from mlxtend.feature_selection import ExhaustiveFeatureSelector as EFS\n",
    "   \n",
    "error_metric = pd.DataFrame({'r2_train': [],\n",
    "                            'r2_test': [],\n",
    "                             'rms_train':[], \n",
    "                            'rms_test': [],\n",
    "                            'mae_train': [],\n",
    "                            'mae_test':[],\n",
    "                            'mape_train':[],\n",
    "                            'mape_test':[]})\n",
    "    \n",
    "rmse_dict = {} "
   ]
  },
  {
   "cell_type": "code",
   "execution_count": null,
   "metadata": {},
   "outputs": [],
   "source": [
    "FeatureSelectionTechniques(quarter)\n",
    " "
   ]
  },
  {
   "cell_type": "code",
   "execution_count": null,
   "metadata": {},
   "outputs": [],
   "source": [
    "\n",
    "FeatureSelectionexhaustive(quarter)"
   ]
  },
  {
   "cell_type": "code",
   "execution_count": null,
   "metadata": {},
   "outputs": [],
   "source": [
    "FeatureSelectionBackward(quarter)"
   ]
  },
  {
   "cell_type": "code",
   "execution_count": 72,
   "metadata": {},
   "outputs": [
    {
     "name": "stdout",
     "output_type": "stream",
     "text": [
      "linear regression:\n",
      "0.37824718717748795\n",
      "Linear Regression---------\n",
      "Training Data\n",
      "MAE:0.21357986375983826\n",
      "RMSE:0.28998513312818\n",
      "Median Absolute Error:0.16145840185246652\n",
      "Testing Data:\n",
      "MAE:0.2478038471138706\n",
      "RMSE:0.3248587101740713\n",
      "Median Absolute Error:0.19642159208547838\n",
      "Linear Regression Peformed\n",
      "Training Data\n"
     ]
    },
    {
     "name": "stderr",
     "output_type": "stream",
     "text": [
      "C:\\Users\\ritua\\Anaconda3\\lib\\site-packages\\sklearn\\ensemble\\forest.py:246: FutureWarning: The default value of n_estimators will change from 10 in version 0.20 to 100 in 0.22.\n",
      "  \"10 in version 0.20 to 100 in 0.22.\", FutureWarning)\n"
     ]
    },
    {
     "name": "stdout",
     "output_type": "stream",
     "text": [
      "Random Forest-------------\n",
      "Training Data:\n",
      "MAE:0.20491718710242585\n",
      "RMSE:0.27656647905142\n",
      "Median Absolute Error:0.15707229717481042\n",
      "Testing Data:\n",
      "MAE:0.2433453229164597\n",
      "RMSE:0.31630580559446764\n",
      "Median Absolute Error:0.1936370762916182\n",
      "Random Forest Regression Peformed\n"
     ]
    },
    {
     "data": {
      "image/png": "[encoded data removed]",
      "text/plain": [
       "<matplotlib.figure.Figure at 0x17f2cf109b0>"
      ]
     },
     "metadata": {},
     "output_type": "display_data"
    },
    {
     "data": {
      "image/png": "[encoded data removed]",
      "text/plain": [
       "<matplotlib.figure.Figure at 0x17f0e502748>"
      ]
     },
     "metadata": {},
     "output_type": "display_data"
    },
    {
     "data": {
      "image/png": "[encoded data removed]",
      "text/plain": [
       "<matplotlib.figure.Figure at 0x17f015159b0>"
      ]
     },
     "metadata": {},
     "output_type": "display_data"
    }
   ],
   "source": [
    " train=quarter\n",
    "test=testquarter\n",
    "\n",
    "    # FeatureSelectionTechniques(train)\n",
    "LinearRegressionAnalysis(train,test)\n",
    "\n",
    "    "
   ]
  },
  {
   "cell_type": "code",
   "execution_count": null,
   "metadata": {},
   "outputs": [],
   "source": [
    "RandomForestAnalysis(train,test)"
   ]
  },
  {
   "cell_type": "code",
   "execution_count": 73,
   "metadata": {},
   "outputs": [
    {
     "name": "stdout",
     "output_type": "stream",
     "text": [
      "Iteration 1, loss = 4589098.84274377\n",
      "Iteration 2, loss = 1.30230868\n",
      "Iteration 3, loss = 1.22875676\n",
      "Iteration 4, loss = 1.21609709\n",
      "Iteration 5, loss = 1.69700294\n",
      "Iteration 6, loss = 6.82985037\n",
      "Iteration 7, loss = 68.07257071\n",
      "Iteration 8, loss = 87.01125373\n",
      "Iteration 9, loss = 86.71354281\n",
      "Iteration 10, loss = 116.10835692\n",
      "Iteration 11, loss = 65.47805921\n",
      "Iteration 12, loss = 86.39555071\n",
      "Iteration 13, loss = 130.54447772\n",
      "Iteration 14, loss = 84.89670294\n",
      "Iteration 15, loss = 95.87307963\n",
      "Iteration 16, loss = 64.66642333\n",
      "Training loss did not improve more than tol=-1.000000 for 10 consecutive epochs. Stopping.\n"
     ]
    }
   ],
   "source": [
    "Data1=trainModel(quarter)\n",
    "TestData1=trainModel(testquarter)\n",
    "Data1=checkAllReqColumns(Data1)\n",
    "TestData1=checkAllReqColumns(TestData1)\n",
    "y_train1=Data1.int_rt\n",
    "Data1=Data1.drop('int_rt',axis=1)\n",
    "x_train1=Data1\n",
    "y_test1=TestData1.int_rt\n",
    "TestData1.drop('int_rt',axis=1,inplace=True)\n",
    "x_test1=TestData1\n",
    "\n",
    "nn_model = MLPRegressor(hidden_layer_sizes=(10,4),\n",
    "                                    activation='relu', # activation function in the nodes of the neral net\n",
    "                                    solver='adam', # optimizer algorithm\n",
    "                                    learning_rate='constant',\n",
    "                                    learning_rate_init=0.001, # initial learning rate\n",
    "                                    max_iter=50, # max iterations to train for\n",
    "                                    tol = -1, # tolerance for when to stop training should be range 0.001 to 0.0000001, -1 for max_iter\n",
    "                                    shuffle=True,\n",
    "                                    verbose=True) # show details at each iteration\n",
    "nn_model = nn_model.fit(x_train1, y_train1.values.ravel())"
   ]
  },
  {
   "cell_type": "code",
   "execution_count": 74,
   "metadata": {},
   "outputs": [],
   "source": [
    "nn_model_predictions = nn_model.predict(x_test1)"
   ]
  },
  {
   "cell_type": "code",
   "execution_count": 75,
   "metadata": {},
   "outputs": [
    {
     "data": {
      "text/plain": [
       "<matplotlib.axes._subplots.AxesSubplot at 0x17f33607160>"
      ]
     },
     "execution_count": 75,
     "metadata": {},
     "output_type": "execute_result"
    },
    {
     "data": {
      "image/png": "[encoded data removed]",
      "text/plain": [
       "<matplotlib.figure.Figure at 0x17f472e1f60>"
      ]
     },
     "metadata": {},
     "output_type": "display_data"
    }
   ],
   "source": [
    "sns.distplot((y_test1-nn_model_predictions),bins=50)"
   ]
  },
  {
   "cell_type": "code",
   "execution_count": 76,
   "metadata": {},
   "outputs": [
    {
     "data": {
      "text/html": [
       "<div>\n",
       "<style scoped>\n",
       "    .dataframe tbody tr th:only-of-type {\n",
       "        vertical-align: middle;\n",
       "    }\n",
       "\n",
       "    .dataframe tbody tr th {\n",
       "        vertical-align: top;\n",
       "    }\n",
       "\n",
       "    .dataframe thead th {\n",
       "        text-align: right;\n",
       "    }\n",
       "</style>\n",
       "<table border=\"1\" class=\"dataframe\">\n",
       "  <thead>\n",
       "    <tr style=\"text-align: right;\">\n",
       "      <th></th>\n",
       "      <th>Model</th>\n",
       "      <th>mae_test</th>\n",
       "      <th>mae_train</th>\n",
       "      <th>mape_test</th>\n",
       "      <th>mape_train</th>\n",
       "      <th>r2_test</th>\n",
       "      <th>r2_train</th>\n",
       "      <th>rms_test</th>\n",
       "      <th>rms_train</th>\n",
       "    </tr>\n",
       "  </thead>\n",
       "  <tbody>\n",
       "    <tr>\n",
       "      <th>0</th>\n",
       "      <td>Linear Regression</td>\n",
       "      <td>0.247804</td>\n",
       "      <td>0.213580</td>\n",
       "      <td>4.226464</td>\n",
       "      <td>3.779000</td>\n",
       "      <td>0.141400</td>\n",
       "      <td>0.378247</td>\n",
       "      <td>0.324859</td>\n",
       "      <td>0.289985</td>\n",
       "    </tr>\n",
       "    <tr>\n",
       "      <th>0</th>\n",
       "      <td>Random Forest Regressor</td>\n",
       "      <td>0.243345</td>\n",
       "      <td>0.204917</td>\n",
       "      <td>4.153833</td>\n",
       "      <td>3.628222</td>\n",
       "      <td>0.186015</td>\n",
       "      <td>0.434457</td>\n",
       "      <td>0.316306</td>\n",
       "      <td>0.276566</td>\n",
       "    </tr>\n",
       "    <tr>\n",
       "      <th>0</th>\n",
       "      <td>Neural Network</td>\n",
       "      <td>1.468431</td>\n",
       "      <td>1.494523</td>\n",
       "      <td>25.636405</td>\n",
       "      <td>26.572565</td>\n",
       "      <td>-24.394059</td>\n",
       "      <td>-22.894344</td>\n",
       "      <td>1.766709</td>\n",
       "      <td>1.797688</td>\n",
       "    </tr>\n",
       "  </tbody>\n",
       "</table>\n",
       "</div>"
      ],
      "text/plain": [
       "                     Model  mae_test  mae_train  mape_test  mape_train  \\\n",
       "0        Linear Regression  0.247804   0.213580   4.226464    3.779000   \n",
       "0  Random Forest Regressor  0.243345   0.204917   4.153833    3.628222   \n",
       "0           Neural Network  1.468431   1.494523  25.636405   26.572565   \n",
       "\n",
       "     r2_test   r2_train  rms_test  rms_train  \n",
       "0   0.141400   0.378247  0.324859   0.289985  \n",
       "0   0.186015   0.434457  0.316306   0.276566  \n",
       "0 -24.394059 -22.894344  1.766709   1.797688  "
      ]
     },
     "execution_count": 76,
     "metadata": {},
     "output_type": "execute_result"
    }
   ],
   "source": [
    "calc_error_metric('Neural Network', nn_model, x_train1, y_train1, x_test1, y_test1)"
   ]
  },
  {
   "cell_type": "markdown",
   "metadata": {},
   "source": [
    "Here we can see that random forest is the best"
   ]
  },
  {
   "cell_type": "code",
   "execution_count": 77,
   "metadata": {},
   "outputs": [],
   "source": [
    "import h2o"
   ]
  },
  {
   "cell_type": "code",
   "execution_count": 78,
   "metadata": {},
   "outputs": [
    {
     "name": "stdout",
     "output_type": "stream",
     "text": [
      "Checking whether there is an H2O instance running at http://localhost:54321..... not found.\n",
      "Attempting to start a local H2O server...\n",
      "; Java HotSpot(TM) 64-Bit Server VM (build 25.191-b12, mixed mode)\n",
      "  Starting server from C:\\Users\\ritua\\Anaconda3\\lib\\site-packages\\h2o\\backend\\bin\\h2o.jar\n",
      "  Ice root: C:\\Users\\ritua\\AppData\\Local\\Temp\\tmpp083aq7l\n",
      "  JVM stdout: C:\\Users\\ritua\\AppData\\Local\\Temp\\tmpp083aq7l\\h2o_ritua_started_from_python.out\n",
      "  JVM stderr: C:\\Users\\ritua\\AppData\\Local\\Temp\\tmpp083aq7l\\h2o_ritua_started_from_python.err\n",
      "  Server is running at http://127.0.0.1:54321\n",
      "Connecting to H2O server at http://127.0.0.1:54321... successful.\n"
     ]
    },
    {
     "data": {
      "text/html": [
       "<div style=\"overflow:auto\"><table style=\"width:50%\"><tr><td>H2O cluster uptime:</td>\n",
       "<td>01 secs</td></tr>\n",
       "<tr><td>H2O cluster timezone:</td>\n",
       "<td>America/New_York</td></tr>\n",
       "<tr><td>H2O data parsing timezone:</td>\n",
       "<td>UTC</td></tr>\n",
       "<tr><td>H2O cluster version:</td>\n",
       "<td>3.22.0.2</td></tr>\n",
       "<tr><td>H2O cluster version age:</td>\n",
       "<td>8 days </td></tr>\n",
       "<tr><td>H2O cluster name:</td>\n",
       "<td>H2O_from_python_ritua_gf19d6</td></tr>\n",
       "<tr><td>H2O cluster total nodes:</td>\n",
       "<td>1</td></tr>\n",
       "<tr><td>H2O cluster free memory:</td>\n",
       "<td>7.111 Gb</td></tr>\n",
       "<tr><td>H2O cluster total cores:</td>\n",
       "<td>8</td></tr>\n",
       "<tr><td>H2O cluster allowed cores:</td>\n",
       "<td>8</td></tr>\n",
       "<tr><td>H2O cluster status:</td>\n",
       "<td>accepting new members, healthy</td></tr>\n",
       "<tr><td>H2O connection url:</td>\n",
       "<td>http://127.0.0.1:54321</td></tr>\n",
       "<tr><td>H2O connection proxy:</td>\n",
       "<td>None</td></tr>\n",
       "<tr><td>H2O internal security:</td>\n",
       "<td>False</td></tr>\n",
       "<tr><td>H2O API Extensions:</td>\n",
       "<td>Algos, AutoML, Core V3, Core V4</td></tr>\n",
       "<tr><td>Python version:</td>\n",
       "<td>3.6.4 final</td></tr></table></div>"
      ],
      "text/plain": [
       "--------------------------  -------------------------------\n",
       "H2O cluster uptime:         01 secs\n",
       "H2O cluster timezone:       America/New_York\n",
       "H2O data parsing timezone:  UTC\n",
       "H2O cluster version:        3.22.0.2\n",
       "H2O cluster version age:    8 days\n",
       "H2O cluster name:           H2O_from_python_ritua_gf19d6\n",
       "H2O cluster total nodes:    1\n",
       "H2O cluster free memory:    7.111 Gb\n",
       "H2O cluster total cores:    8\n",
       "H2O cluster allowed cores:  8\n",
       "H2O cluster status:         accepting new members, healthy\n",
       "H2O connection url:         http://127.0.0.1:54321\n",
       "H2O connection proxy:\n",
       "H2O internal security:      False\n",
       "H2O API Extensions:         Algos, AutoML, Core V3, Core V4\n",
       "Python version:             3.6.4 final\n",
       "--------------------------  -------------------------------"
      ]
     },
     "metadata": {},
     "output_type": "display_data"
    }
   ],
   "source": [
    "h2o.init(nthreads = -1, max_mem_size = 8)"
   ]
  },
  {
   "cell_type": "code",
   "execution_count": 79,
   "metadata": {},
   "outputs": [],
   "source": [
    "df_train = trainModel(quarter)\n",
    "df_train.to_csv('Training_Data.csv')"
   ]
  },
  {
   "cell_type": "code",
   "execution_count": 80,
   "metadata": {},
   "outputs": [
    {
     "name": "stdout",
     "output_type": "stream",
     "text": [
      "Parse progress: |█████████████████████████████████████████████████████████| 100%\n"
     ]
    }
   ],
   "source": [
    "Training_data_csv = \"Training_Data.csv\" \n",
    "data = h2o.import_file(Training_data_csv)  "
   ]
  },
  {
   "cell_type": "code",
   "execution_count": 81,
   "metadata": {},
   "outputs": [
    {
     "data": {
      "text/plain": [
       "(351634, 33)"
      ]
     },
     "execution_count": 81,
     "metadata": {},
     "output_type": "execute_result"
    }
   ],
   "source": [
    "data.shape"
   ]
  },
  {
   "cell_type": "code",
   "execution_count": 82,
   "metadata": {},
   "outputs": [
    {
     "data": {
      "text/plain": [
       "['C1',\n",
       " 'fico',\n",
       " 'mi_pct',\n",
       " 'cnt_units',\n",
       " 'cltv',\n",
       " 'dti',\n",
       " 'orig_upb',\n",
       " 'ltv',\n",
       " 'int_rt',\n",
       " 'orig_loan_term',\n",
       " 'cnt_borr',\n",
       " 'flag_fthb9',\n",
       " 'flag_fthbN',\n",
       " 'flag_fthbY',\n",
       " 'occpy_stsI',\n",
       " 'occpy_stsP',\n",
       " 'occpy_stsS',\n",
       " 'channelB',\n",
       " 'channelC',\n",
       " 'channelR',\n",
       " 'channelT',\n",
       " 'ppmt_pnltyN',\n",
       " 'ppmt_pnltyX',\n",
       " 'ppmt_pnltyY',\n",
       " 'prop_type99',\n",
       " 'prop_typeCO',\n",
       " 'prop_typeCP',\n",
       " 'prop_typeMH',\n",
       " 'prop_typePU',\n",
       " 'prop_typeSF',\n",
       " 'loan_purposeC',\n",
       " 'loan_purposeN',\n",
       " 'loan_purposeP']"
      ]
     },
     "execution_count": 82,
     "metadata": {},
     "output_type": "execute_result"
    }
   ],
   "source": [
    "data.columns"
   ]
  },
  {
   "cell_type": "code",
   "execution_count": 83,
   "metadata": {},
   "outputs": [],
   "source": [
    "y_train = 'int_rt'\n",
    "x_train = data.columns"
   ]
  },
  {
   "cell_type": "code",
   "execution_count": 84,
   "metadata": {},
   "outputs": [],
   "source": [
    " #remove the response\n",
    "x_train.remove(y_train)  "
   ]
  },
  {
   "cell_type": "code",
   "execution_count": 85,
   "metadata": {},
   "outputs": [
    {
     "data": {
      "text/plain": [
       "['C1',\n",
       " 'fico',\n",
       " 'mi_pct',\n",
       " 'cnt_units',\n",
       " 'cltv',\n",
       " 'dti',\n",
       " 'orig_upb',\n",
       " 'ltv',\n",
       " 'orig_loan_term',\n",
       " 'cnt_borr',\n",
       " 'flag_fthb9',\n",
       " 'flag_fthbN',\n",
       " 'flag_fthbY',\n",
       " 'occpy_stsI',\n",
       " 'occpy_stsP',\n",
       " 'occpy_stsS',\n",
       " 'channelB',\n",
       " 'channelC',\n",
       " 'channelR',\n",
       " 'channelT',\n",
       " 'ppmt_pnltyN',\n",
       " 'ppmt_pnltyX',\n",
       " 'ppmt_pnltyY',\n",
       " 'prop_type99',\n",
       " 'prop_typeCO',\n",
       " 'prop_typeCP',\n",
       " 'prop_typeMH',\n",
       " 'prop_typePU',\n",
       " 'prop_typeSF',\n",
       " 'loan_purposeC',\n",
       " 'loan_purposeN',\n",
       " 'loan_purposeP']"
      ]
     },
     "execution_count": 85,
     "metadata": {},
     "output_type": "execute_result"
    }
   ],
   "source": [
    "x_train"
   ]
  },
  {
   "cell_type": "code",
   "execution_count": 86,
   "metadata": {},
   "outputs": [],
   "source": [
    "df_test = trainModel(testquarter)\n",
    "df_test.to_csv('Testing_Data.csv')"
   ]
  },
  {
   "cell_type": "code",
   "execution_count": 87,
   "metadata": {},
   "outputs": [
    {
     "name": "stdout",
     "output_type": "stream",
     "text": [
      "Parse progress: |█████████████████████████████████████████████████████████| 100%\n"
     ]
    }
   ],
   "source": [
    "Testing_data_csv = \"Testing_Data.csv\" \n",
    "data1 = h2o.import_file(Testing_data_csv) \n",
    "\n",
    "y_test='int_rt'\n",
    "x_test = data1.columns"
   ]
  },
  {
   "cell_type": "code",
   "execution_count": 88,
   "metadata": {},
   "outputs": [],
   "source": [
    "x_test.remove(y_test)"
   ]
  },
  {
   "cell_type": "code",
   "execution_count": 89,
   "metadata": {},
   "outputs": [
    {
     "name": "stdout",
     "output_type": "stream",
     "text": [
      "(351634, 33)\n",
      "(405679, 33)\n"
     ]
    }
   ],
   "source": [
    "print(data.shape)\n",
    "print(data1.shape)"
   ]
  },
  {
   "cell_type": "code",
   "execution_count": 90,
   "metadata": {},
   "outputs": [
    {
     "data": {
      "image/png": "[encoded data removed]",
      "text/plain": [
       "<matplotlib.figure.Figure at 0x17f02ebe6a0>"
      ]
     },
     "metadata": {},
     "output_type": "display_data"
    }
   ],
   "source": [
    "import pylab as pl\n",
    "data.as_data_frame().hist(figsize=(30,20))\n",
    "pl.show()"
   ]
  },
  {
   "cell_type": "code",
   "execution_count": 91,
   "metadata": {},
   "outputs": [
    {
     "data": {
      "image/png": "[encoded data removed]",
      "text/plain": [
       "<matplotlib.figure.Figure at 0x17f007a3cf8>"
      ]
     },
     "metadata": {},
     "output_type": "display_data"
    }
   ],
   "source": [
    "import pylab as pl\n",
    "data1.as_data_frame().hist(figsize=(30,20))\n",
    "pl.show()"
   ]
  },
  {
   "cell_type": "code",
   "execution_count": 92,
   "metadata": {},
   "outputs": [],
   "source": [
    "from h2o.estimators.glm import H2OGeneralizedLinearEstimator"
   ]
  },
  {
   "cell_type": "code",
   "execution_count": 93,
   "metadata": {},
   "outputs": [],
   "source": [
    "h2o_glm = H2OGeneralizedLinearEstimator(nfolds = 5)"
   ]
  },
  {
   "cell_type": "code",
   "execution_count": 94,
   "metadata": {},
   "outputs": [
    {
     "name": "stdout",
     "output_type": "stream",
     "text": [
      "glm Model Build progress: |███████████████████████████████████████████████| 100%\n"
     ]
    }
   ],
   "source": [
    "h2o_glm.train(x = x_train, y = y_train, training_frame= data)"
   ]
  },
  {
   "cell_type": "code",
   "execution_count": 95,
   "metadata": {},
   "outputs": [
    {
     "name": "stdout",
     "output_type": "stream",
     "text": [
      "Model Details\n",
      "=============\n",
      "H2OGeneralizedLinearEstimator :  Generalized Linear Modeling\n",
      "Model Key:  GLM_model_python_1543584235864_1\n",
      "\n",
      "\n",
      "ModelMetricsRegressionGLM: glm\n",
      "** Reported on train data. **\n",
      "\n",
      "MSE: 0.08387168932294989\n",
      "RMSE: 0.28960609338021515\n",
      "MAE: 0.21324998202673287\n",
      "RMSLE: 0.043169994889018015\n",
      "R^2: 0.37987150965378935\n",
      "Mean Residual Deviance: 0.08387168932294989\n",
      "Null degrees of freedom: 351633\n",
      "Residual degrees of freedom: 351608\n",
      "Null deviance: 47558.10781555675\n",
      "Residual deviance: 29492.13760338616\n",
      "AIC: 126434.7444267603\n",
      "\n",
      "ModelMetricsRegressionGLM: glm\n",
      "** Reported on cross-validation data. **\n",
      "\n",
      "MSE: 0.0839216245281585\n",
      "RMSE: 0.28969229283527465\n",
      "MAE: 0.2132762531676153\n",
      "RMSLE: 0.04318063308935781\n",
      "R^2: 0.37950229992787843\n",
      "Mean Residual Deviance: 0.0839216245281585\n",
      "Null degrees of freedom: 351633\n",
      "Residual degrees of freedom: 351608\n",
      "Null deviance: 47558.14885947673\n",
      "Residual deviance: 29509.696519334488\n",
      "AIC: 126644.03663350787\n",
      "Cross-Validation Metrics Summary: \n"
     ]
    },
    {
     "data": {
      "text/html": [
       "<div style=\"overflow:auto\"><table style=\"width:50%\"><tr><td><b></b></td>\n",
       "<td><b>mean</b></td>\n",
       "<td><b>sd</b></td>\n",
       "<td><b>cv_1_valid</b></td>\n",
       "<td><b>cv_2_valid</b></td>\n",
       "<td><b>cv_3_valid</b></td>\n",
       "<td><b>cv_4_valid</b></td>\n",
       "<td><b>cv_5_valid</b></td></tr>\n",
       "<tr><td>mae</td>\n",
       "<td>0.2132768</td>\n",
       "<td>0.0005574</td>\n",
       "<td>0.2138792</td>\n",
       "<td>0.2129120</td>\n",
       "<td>0.2128476</td>\n",
       "<td>0.2122755</td>\n",
       "<td>0.2144699</td></tr>\n",
       "<tr><td>mean_residual_deviance</td>\n",
       "<td>0.0839224</td>\n",
       "<td>0.0006744</td>\n",
       "<td>0.0845177</td>\n",
       "<td>0.0837376</td>\n",
       "<td>0.0830772</td>\n",
       "<td>0.0828452</td>\n",
       "<td>0.0854340</td></tr>\n",
       "<tr><td>mse</td>\n",
       "<td>0.0839224</td>\n",
       "<td>0.0006744</td>\n",
       "<td>0.0845177</td>\n",
       "<td>0.0837376</td>\n",
       "<td>0.0830772</td>\n",
       "<td>0.0828452</td>\n",
       "<td>0.0854340</td></tr>\n",
       "<tr><td>null_deviance</td>\n",
       "<td>9511.63</td>\n",
       "<td>73.17848</td>\n",
       "<td>9514.958</td>\n",
       "<td>9591.536</td>\n",
       "<td>9448.985</td>\n",
       "<td>9354.674</td>\n",
       "<td>9647.995</td></tr>\n",
       "<tr><td>r2</td>\n",
       "<td>0.3794965</td>\n",
       "<td>0.0018320</td>\n",
       "<td>0.3781188</td>\n",
       "<td>0.3844651</td>\n",
       "<td>0.3793662</td>\n",
       "<td>0.3784637</td>\n",
       "<td>0.3770686</td></tr>\n",
       "<tr><td>residual_deviance</td>\n",
       "<td>5901.9395</td>\n",
       "<td>45.850933</td>\n",
       "<td>5917.1704</td>\n",
       "<td>5903.922</td>\n",
       "<td>5864.3335</td>\n",
       "<td>5814.245</td>\n",
       "<td>6010.026</td></tr>\n",
       "<tr><td>rmse</td>\n",
       "<td>0.2896889</td>\n",
       "<td>0.0011627</td>\n",
       "<td>0.2907193</td>\n",
       "<td>0.2893746</td>\n",
       "<td>0.2882311</td>\n",
       "<td>0.2878285</td>\n",
       "<td>0.2922910</td></tr>\n",
       "<tr><td>rmsle</td>\n",
       "<td>0.0431804</td>\n",
       "<td>0.0001383</td>\n",
       "<td>0.0433203</td>\n",
       "<td>0.0430942</td>\n",
       "<td>0.0430315</td>\n",
       "<td>0.0429657</td>\n",
       "<td>0.0434902</td></tr></table></div>"
      ],
      "text/plain": [
       "                        mean       sd           cv_1_valid    cv_2_valid    cv_3_valid    cv_4_valid    cv_5_valid\n",
       "----------------------  ---------  -----------  ------------  ------------  ------------  ------------  ------------\n",
       "mae                     0.213277   0.000557359  0.213879      0.212912      0.212848      0.212275      0.21447\n",
       "mean_residual_deviance  0.0839224  0.000674402  0.0845177     0.0837376     0.0830772     0.0828452     0.085434\n",
       "mse                     0.0839224  0.000674402  0.0845177     0.0837376     0.0830772     0.0828452     0.085434\n",
       "null_deviance           9511.63    73.1785      9514.96       9591.54       9448.99       9354.67       9648\n",
       "r2                      0.379496   0.00183204   0.378119      0.384465      0.379366      0.378464      0.377069\n",
       "residual_deviance       5901.94    45.8509      5917.17       5903.92       5864.33       5814.24       6010.03\n",
       "rmse                    0.289689   0.00116265   0.290719      0.289375      0.288231      0.287828      0.292291\n",
       "rmsle                   0.0431804  0.000138287  0.0433203     0.0430942     0.0430315     0.0429657     0.0434902"
      ]
     },
     "metadata": {},
     "output_type": "display_data"
    },
    {
     "name": "stdout",
     "output_type": "stream",
     "text": [
      "Scoring History: \n"
     ]
    },
    {
     "data": {
      "text/html": [
       "<div style=\"overflow:auto\"><table style=\"width:50%\"><tr><td><b></b></td>\n",
       "<td><b>timestamp</b></td>\n",
       "<td><b>duration</b></td>\n",
       "<td><b>iterations</b></td>\n",
       "<td><b>negative_log_likelihood</b></td>\n",
       "<td><b>objective</b></td></tr>\n",
       "<tr><td></td>\n",
       "<td>2018-11-30 08:26:46</td>\n",
       "<td> 0.000 sec</td>\n",
       "<td>0</td>\n",
       "<td>47558.1079865</td>\n",
       "<td>0.1352489</td></tr></table></div>"
      ],
      "text/plain": [
       "    timestamp            duration    iterations    negative_log_likelihood    objective\n",
       "--  -------------------  ----------  ------------  -------------------------  -----------\n",
       "    2018-11-30 08:26:46  0.000 sec   0             47558.1                    0.135249"
      ]
     },
     "metadata": {},
     "output_type": "display_data"
    },
    {
     "data": {
      "text/plain": []
     },
     "execution_count": 95,
     "metadata": {},
     "output_type": "execute_result"
    }
   ],
   "source": [
    "h2o_glm"
   ]
  },
  {
   "cell_type": "code",
   "execution_count": 96,
   "metadata": {},
   "outputs": [
    {
     "name": "stdout",
     "output_type": "stream",
     "text": [
      "glm prediction progress: |████████████████████████████████████████████████| 100%\n"
     ]
    }
   ],
   "source": [
    "h2o_glm_pred= h2o_glm.predict(data1)"
   ]
  },
  {
   "cell_type": "code",
   "execution_count": 97,
   "metadata": {},
   "outputs": [
    {
     "data": {
      "text/html": [
       "<table>\n",
       "<thead>\n",
       "<tr><th style=\"text-align: right;\">  predict</th></tr>\n",
       "</thead>\n",
       "<tbody>\n",
       "<tr><td style=\"text-align: right;\">  5.73973</td></tr>\n",
       "<tr><td style=\"text-align: right;\">  5.67046</td></tr>\n",
       "<tr><td style=\"text-align: right;\">  5.7319 </td></tr>\n",
       "<tr><td style=\"text-align: right;\">  5.70033</td></tr>\n",
       "<tr><td style=\"text-align: right;\">  5.87046</td></tr>\n",
       "<tr><td style=\"text-align: right;\">  5.83516</td></tr>\n",
       "<tr><td style=\"text-align: right;\">  5.86681</td></tr>\n",
       "<tr><td style=\"text-align: right;\">  5.83647</td></tr>\n",
       "<tr><td style=\"text-align: right;\">  5.83686</td></tr>\n",
       "<tr><td style=\"text-align: right;\">  5.88017</td></tr>\n",
       "</tbody>\n",
       "</table>"
      ]
     },
     "metadata": {},
     "output_type": "display_data"
    },
    {
     "data": {
      "text/plain": []
     },
     "execution_count": 97,
     "metadata": {},
     "output_type": "execute_result"
    }
   ],
   "source": [
    "h2o_glm_pred"
   ]
  },
  {
   "cell_type": "code",
   "execution_count": 98,
   "metadata": {},
   "outputs": [
    {
     "name": "stdout",
     "output_type": "stream",
     "text": [
      "\n",
      "ModelMetricsRegressionGLM: glm\n",
      "** Reported on test data. **\n",
      "\n",
      "MSE: 0.08387168932294989\n",
      "RMSE: 0.28960609338021515\n",
      "MAE: 0.21324998202673287\n",
      "RMSLE: 0.043169994889018015\n",
      "R^2: 0.37987150965378935\n",
      "Mean Residual Deviance: 0.08387168932294989\n",
      "Null degrees of freedom: 351633\n",
      "Residual degrees of freedom: 351608\n",
      "Null deviance: 47558.10781555675\n",
      "Residual deviance: 29492.13760338616\n",
      "AIC: 126434.7444267603\n"
     ]
    },
    {
     "data": {
      "text/plain": []
     },
     "execution_count": 98,
     "metadata": {},
     "output_type": "execute_result"
    }
   ],
   "source": [
    "h2o_glm.model_performance(data)"
   ]
  },
  {
   "cell_type": "code",
   "execution_count": 99,
   "metadata": {},
   "outputs": [
    {
     "name": "stdout",
     "output_type": "stream",
     "text": [
      "\n",
      "ModelMetricsRegressionGLM: glm\n",
      "** Reported on test data. **\n",
      "\n",
      "MSE: 0.10553363242248862\n",
      "RMSE: 0.32485940408504205\n",
      "MAE: 0.24844514084578082\n",
      "RMSLE: 0.047560124763358747\n",
      "R^2: 0.1413962969208189\n",
      "Mean Residual Deviance: 0.10553363242248862\n",
      "Null degrees of freedom: 405678\n",
      "Residual degrees of freedom: 405653\n",
      "Null deviance: 56735.384459798675\n",
      "Residual deviance: 42812.77846752276\n",
      "AIC: 239060.38336642054\n"
     ]
    },
    {
     "data": {
      "text/plain": []
     },
     "execution_count": 99,
     "metadata": {},
     "output_type": "execute_result"
    }
   ],
   "source": [
    "h2o_glm.model_performance(data1)"
   ]
  },
  {
   "cell_type": "code",
   "execution_count": 100,
   "metadata": {},
   "outputs": [
    {
     "name": "stdout",
     "output_type": "stream",
     "text": [
      "Variable importance does not apply to GLM. Will use std_coef_plot() instead.\n"
     ]
    },
    {
     "data": {
      "image/png": "[encoded data removed]",
      "text/plain": [
       "<matplotlib.figure.Figure at 0x17f48d740b8>"
      ]
     },
     "metadata": {},
     "output_type": "display_data"
    }
   ],
   "source": [
    "h2o_glm.varimp_plot()"
   ]
  },
  {
   "cell_type": "code",
   "execution_count": 101,
   "metadata": {},
   "outputs": [],
   "source": [
    "# Random Forest Estimator\n",
    "from h2o.estimators.random_forest import H2ORandomForestEstimator"
   ]
  },
  {
   "cell_type": "code",
   "execution_count": 102,
   "metadata": {},
   "outputs": [],
   "source": [
    "rf_fit1 = H2ORandomForestEstimator(model_id='rf_fit1', seed=1)"
   ]
  },
  {
   "cell_type": "code",
   "execution_count": 103,
   "metadata": {},
   "outputs": [
    {
     "name": "stdout",
     "output_type": "stream",
     "text": [
      "drf Model Build progress: |███████████████████████████████████████████████| 100%\n"
     ]
    }
   ],
   "source": [
    "rf_fit1.train(x=x_train, y=y_train, training_frame=data)"
   ]
  },
  {
   "cell_type": "code",
   "execution_count": 104,
   "metadata": {},
   "outputs": [
    {
     "name": "stdout",
     "output_type": "stream",
     "text": [
      "drf Model Build progress: |███████████████████████████████████████████████| 100%\n"
     ]
    }
   ],
   "source": [
    "rf_fit2 = H2ORandomForestEstimator(model_id='rf_fit2', ntrees=100, seed=1)\n",
    "rf_fit2.train(x=x_train, y=y_train, training_frame=data)"
   ]
  },
  {
   "cell_type": "code",
   "execution_count": 105,
   "metadata": {},
   "outputs": [],
   "source": [
    "rf_perf1 = rf_fit1.model_performance(data1)\n",
    "rf_perf2 = rf_fit2.model_performance(data1)"
   ]
  },
  {
   "cell_type": "code",
   "execution_count": 106,
   "metadata": {},
   "outputs": [
    {
     "name": "stdout",
     "output_type": "stream",
     "text": [
      "\n",
      "ModelMetricsRegression: drf\n",
      "** Reported on test data. **\n",
      "\n",
      "MSE: 0.1006339160496734\n",
      "RMSE: 0.3172284918629999\n",
      "MAE: 0.24509472426239198\n",
      "RMSLE: 0.04659877455244077\n",
      "Mean Residual Deviance: 0.1006339160496734\n"
     ]
    },
    {
     "data": {
      "text/plain": []
     },
     "execution_count": 106,
     "metadata": {},
     "output_type": "execute_result"
    }
   ],
   "source": [
    "rf_perf1"
   ]
  },
  {
   "cell_type": "code",
   "execution_count": 107,
   "metadata": {},
   "outputs": [
    {
     "name": "stdout",
     "output_type": "stream",
     "text": [
      "\n",
      "ModelMetricsRegression: drf\n",
      "** Reported on test data. **\n",
      "\n",
      "MSE: 0.09974062777428995\n",
      "RMSE: 0.315817396250254\n",
      "MAE: 0.24399638452778136\n",
      "RMSLE: 0.04637665591852622\n",
      "Mean Residual Deviance: 0.09974062777428995\n"
     ]
    },
    {
     "data": {
      "text/plain": []
     },
     "execution_count": 107,
     "metadata": {},
     "output_type": "execute_result"
    }
   ],
   "source": [
    "rf_perf2"
   ]
  },
  {
   "cell_type": "code",
   "execution_count": 108,
   "metadata": {},
   "outputs": [
    {
     "name": "stdout",
     "output_type": "stream",
     "text": [
      "drf Model Build progress: |███████████████████████████████████████████████| 100%\n"
     ]
    }
   ],
   "source": [
    "rf_fit3 = H2ORandomForestEstimator(model_id='rf_fit3', seed=1, nfolds=5)\n",
    "rf_fit3.train(x=x_train, y=y_train, training_frame=data)"
   ]
  },
  {
   "cell_type": "code",
   "execution_count": 109,
   "metadata": {},
   "outputs": [],
   "source": [
    "rf_perf3=rf_fit3.model_performance(data1)"
   ]
  },
  {
   "cell_type": "code",
   "execution_count": 110,
   "metadata": {},
   "outputs": [
    {
     "name": "stdout",
     "output_type": "stream",
     "text": [
      "\n",
      "ModelMetricsRegression: drf\n",
      "** Reported on test data. **\n",
      "\n",
      "MSE: 0.1006339160496734\n",
      "RMSE: 0.3172284918629999\n",
      "MAE: 0.24509472426239198\n",
      "RMSLE: 0.04659877455244077\n",
      "Mean Residual Deviance: 0.1006339160496734\n"
     ]
    },
    {
     "data": {
      "text/plain": []
     },
     "execution_count": 110,
     "metadata": {},
     "output_type": "execute_result"
    }
   ],
   "source": [
    "rf_perf3"
   ]
  },
  {
   "cell_type": "code",
   "execution_count": 111,
   "metadata": {},
   "outputs": [
    {
     "data": {
      "image/png": "[encoded data removed]",
      "text/plain": [
       "<matplotlib.figure.Figure at 0x17f0f5031d0>"
      ]
     },
     "metadata": {},
     "output_type": "display_data"
    }
   ],
   "source": [
    "rf_fit2.varimp_plot()"
   ]
  },
  {
   "cell_type": "markdown",
   "metadata": {},
   "source": [
    "# DeepLearningEstimator"
   ]
  },
  {
   "cell_type": "code",
   "execution_count": 112,
   "metadata": {},
   "outputs": [],
   "source": [
    "# Import H2O DL:\n",
    "from h2o.estimators.deeplearning import H2ODeepLearningEstimator"
   ]
  },
  {
   "cell_type": "code",
   "execution_count": 113,
   "metadata": {},
   "outputs": [
    {
     "name": "stdout",
     "output_type": "stream",
     "text": [
      "deeplearning Model Build progress: |██████████████████████████████████████| 100%\n"
     ]
    }
   ],
   "source": [
    "# Initialize and train the DL estimator:\n",
    "\n",
    "dl_fit1 = H2ODeepLearningEstimator(model_id='dl_fit1', seed=1)\n",
    "dl_fit1.train(x=x_train, y=y_train, training_frame=data)"
   ]
  },
  {
   "cell_type": "code",
   "execution_count": 114,
   "metadata": {},
   "outputs": [
    {
     "name": "stdout",
     "output_type": "stream",
     "text": [
      "deeplearning Model Build progress: |██████████████████████████████████████| 100%\n"
     ]
    }
   ],
   "source": [
    "dl_fit2 = H2ODeepLearningEstimator(model_id='dl_fit2', \n",
    "                                   epochs=20, \n",
    "                                   hidden=[10,10], \n",
    "                                   stopping_rounds=0,  #disable early stopping\n",
    "                                   seed=1)\n",
    "dl_fit2.train(x=x_train, y=y_train, training_frame=data)"
   ]
  },
  {
   "cell_type": "code",
   "execution_count": 115,
   "metadata": {},
   "outputs": [],
   "source": [
    "dl_perf1 = dl_fit1.model_performance(data1)\n",
    "dl_perf2 = dl_fit2.model_performance(data1)"
   ]
  },
  {
   "cell_type": "code",
   "execution_count": 116,
   "metadata": {},
   "outputs": [
    {
     "name": "stdout",
     "output_type": "stream",
     "text": [
      "\n",
      "ModelMetricsRegression: deeplearning\n",
      "** Reported on test data. **\n",
      "\n",
      "MSE: 0.10042571633043772\n",
      "RMSE: 0.3169001677665029\n",
      "MAE: 0.24418694685219353\n",
      "RMSLE: 0.046446607004345296\n",
      "Mean Residual Deviance: 0.10042571633043772\n"
     ]
    },
    {
     "data": {
      "text/plain": []
     },
     "execution_count": 116,
     "metadata": {},
     "output_type": "execute_result"
    }
   ],
   "source": [
    "dl_perf1"
   ]
  },
  {
   "cell_type": "code",
   "execution_count": 117,
   "metadata": {},
   "outputs": [
    {
     "name": "stdout",
     "output_type": "stream",
     "text": [
      "\n",
      "ModelMetricsRegression: deeplearning\n",
      "** Reported on test data. **\n",
      "\n",
      "MSE: 0.09657662270072213\n",
      "RMSE: 0.3107677954690964\n",
      "MAE: 0.23776265443553282\n",
      "RMSLE: 0.045546887459598694\n",
      "Mean Residual Deviance: 0.09657662270072213\n"
     ]
    },
    {
     "data": {
      "text/plain": []
     },
     "execution_count": 117,
     "metadata": {},
     "output_type": "execute_result"
    }
   ],
   "source": [
    "dl_perf2"
   ]
  },
  {
   "cell_type": "markdown",
   "metadata": {},
   "source": [
    "# tpot"
   ]
  },
  {
   "cell_type": "code",
   "execution_count": 23,
   "metadata": {},
   "outputs": [
    {
     "name": "stderr",
     "output_type": "stream",
     "text": [
      "C:\\Users\\ritua\\Anaconda3\\lib\\site-packages\\deap\\tools\\_hypervolume\\pyhv.py:33: ImportWarning: Falling back to the python version of hypervolume module. Expect this to be very slow.\n",
      "  \"module. Expect this to be very slow.\", ImportWarning)\n",
      "C:\\Users\\ritua\\Anaconda3\\lib\\importlib\\_bootstrap.py:219: ImportWarning: can't resolve package from __spec__ or __package__, falling back on __name__ and __path__\n",
      "  return f(*args, **kwds)\n",
      "C:\\Users\\ritua\\Anaconda3\\lib\\importlib\\_bootstrap.py:219: ImportWarning: can't resolve package from __spec__ or __package__, falling back on __name__ and __path__\n",
      "  return f(*args, **kwds)\n"
     ]
    }
   ],
   "source": [
    "from tpot import TPOTRegressor\n",
    "pipeline_optimizer = TPOTRegressor()"
   ]
  },
  {
   "cell_type": "code",
   "execution_count": null,
   "metadata": {},
   "outputs": [],
   "source": [
    "pipeline_optimizer = TPOTRegressor(generations=2, population_size=3, cv = 3,\n",
    "                                    random_state=42, verbosity=2)"
   ]
  },
  {
   "cell_type": "code",
   "execution_count": null,
   "metadata": {},
   "outputs": [],
   "source": [
    "Data1=trainModel(quarter)\n",
    "TestData1=trainModel(testquarter)\n",
    "Data1=checkAllReqColumns(Data1)\n",
    "TestData1=checkAllReqColumns(TestData1)\n",
    "y_train1=Data1.int_rt\n",
    "Data1=Data1.drop('int_rt',axis=1)\n",
    "x_train1=Data1\n",
    "y_test1=TestData1.int_rt\n",
    "TestData1.drop('int_rt',axis=1,inplace=True)\n",
    "x_test1=TestData1\n",
    "\n",
    "pipeline_optimizer.fit(x_train1,y_train1)"
   ]
  },
  {
   "cell_type": "code",
   "execution_count": null,
   "metadata": {},
   "outputs": [],
   "source": [
    "print('The RMSE of TPOT Regressor is {}'.format(pipeline_optimizer.score(x_test,y_test)))"
   ]
  },
  {
   "cell_type": "markdown",
   "metadata": {},
   "source": [
    "# What -if Analysis on 3 different scenarios"
   ]
  },
  {
   "cell_type": "code",
   "execution_count": 118,
   "metadata": {},
   "outputs": [
    {
     "name": "stdout",
     "output_type": "stream",
     "text": [
      "Financial Crisis Analysis for Quarter Q12007 as a training data\n",
      "Training Data:\n",
      "MAE:0.22029121132003052\n",
      "RMSE:0.29053590405050755\n",
      "Median Absolute Error:0.1757616575346761\n",
      "Financial Crisis Analysis for Quarter Q22007 as a training data\n",
      "Training Data:\n",
      "MAE:0.24305294115468107\n",
      "RMSE:0.31807508923618355\n",
      "Median Absolute Error:0.1937905247075693\n",
      "Financial Crisis Analysis for Quarter Q32007 as a training data\n",
      "Training Data:\n",
      "MAE:0.23477958736264884\n",
      "RMSE:0.30845463867163997\n",
      "Median Absolute Error:0.18803151646280636\n",
      "loading saved cookies\n",
      "{'username': 'agrawal.ritu@husky.neu.edu', 'password': 'jRodIxOV'}\n",
      "C:\\Users\\ritua/HistoricalInputFiles\n",
      "https://freddiemac.embs.com/FLoan/Data/download.php?f=historical_data1_Q22005&s=330868332\n",
      "--------------------------------------------------------------------------------------\n",
      "C:\\Users\\ritua/HistoricalInputFiles\n",
      "https://freddiemac.embs.com/FLoan/Data/download.php?f=historical_data1_Q42007&s=169032178\n"
     ]
    },
    {
     "name": "stderr",
     "output_type": "stream",
     "text": [
      "Downloading https://freddiemac.embs.com/FLoan/Data/download.php?f=historical_data1_Q42007&s=169032178: 100%|█| 2/2 [01:58<00:00, 67.69s/it]\n"
     ]
    },
    {
     "name": "stdout",
     "output_type": "stream",
     "text": [
      "Financial Crisis Analysis for Quarter Q42007 as a training data\n",
      "Training Data:\n",
      "MAE:0.2614643340836274\n",
      "RMSE:0.3419200817811143\n",
      "Median Absolute Error:0.20894987667121967\n",
      "Financial Crisis Analysis for Quarter Q22007 as a testing data\n",
      "Testing Data\n",
      "MAE:0.2608170023397367\n",
      "RMSE:0.3383587574319501\n",
      "Median Absolute Error:0.2122477268963241\n",
      "Financial Crisis Analysis for Quarter Q32007 as a testing data\n",
      "Testing Data\n",
      "MAE:0.3644406094480487\n",
      "RMSE:0.44275581621031107\n",
      "Median Absolute Error:0.333681438669557\n",
      "Financial Crisis Analysis for Quarter Q42007 as a testing data\n",
      "Testing Data\n",
      "MAE:0.2614643340836274\n",
      "RMSE:0.3419200817811143\n",
      "Median Absolute Error:0.20894987667121967\n",
      "loading saved cookies\n",
      "{'username': 'agrawal.ritu@husky.neu.edu', 'password': 'jRodIxOV'}\n",
      "C:\\Users\\ritua/HistoricalInputFiles\n",
      "https://freddiemac.embs.com/FLoan/Data/download.php?f=historical_data1_Q22005&s=330868332\n",
      "--------------------------------------------------------------------------------------\n",
      "C:\\Users\\ritua/HistoricalInputFiles\n",
      "https://freddiemac.embs.com/FLoan/Data/download.php?f=historical_data1_Q12008&s=229410710\n"
     ]
    },
    {
     "name": "stderr",
     "output_type": "stream",
     "text": [
      "Downloading https://freddiemac.embs.com/FLoan/Data/download.php?f=historical_data1_Q12008&s=229410710: 100%|█| 2/2 [02:25<00:00, 77.90s/it]\n"
     ]
    },
    {
     "name": "stdout",
     "output_type": "stream",
     "text": [
      "Financial Crisis Analysis for Quarter Q12008 as a testing data\n",
      "Testing Data\n",
      "MAE:0.4805825508335983\n",
      "RMSE:0.5644570686514722\n",
      "Median Absolute Error:0.4589934069036268\n"
     ]
    }
   ],
   "source": [
    "Financial_Crisis()"
   ]
  },
  {
   "cell_type": "code",
   "execution_count": 168,
   "metadata": {},
   "outputs": [
    {
     "name": "stdout",
     "output_type": "stream",
     "text": [
      "Training Data for quarter that user has input:\n",
      "MAE:0.19634733528903936\n",
      "RMSE:0.2641659071030601\n",
      "Median Absolute Error:0.1503490627878583\n",
      "Performance on Economic Boom year's Data\n",
      "MAE:1.0947891001680081\n",
      "RMSE:1.1407715767636384\n",
      "Median Absolute Error:1.068093804012547\n",
      "Performance on Economic Boom year's Data\n"
     ]
    },
    {
     "ename": "ValueError",
     "evalue": "Number of features of the model must match the input. Model n_features is 36 and input n_features is 35 ",
     "output_type": "error",
     "traceback": [
      "\u001b[1;31m---------------------------------------------------------------------------\u001b[0m",
      "\u001b[1;31mValueError\u001b[0m                                Traceback (most recent call last)",
      "\u001b[1;32m<ipython-input-168-2132682fcfa4>\u001b[0m in \u001b[0;36m<module>\u001b[1;34m()\u001b[0m\n\u001b[1;32m----> 1\u001b[1;33m \u001b[0meconomic_boom\u001b[0m\u001b[1;33m(\u001b[0m\u001b[0mquarter\u001b[0m\u001b[1;33m)\u001b[0m\u001b[1;33m\u001b[0m\u001b[0m\n\u001b[0m",
      "\u001b[1;32m<ipython-input-165-2469e83cc5de>\u001b[0m in \u001b[0;36meconomic_boom\u001b[1;34m(quarter)\u001b[0m\n\u001b[0;32m     21\u001b[0m         \u001b[0mx_test1\u001b[0m\u001b[1;33m=\u001b[0m\u001b[0mTestData1\u001b[0m\u001b[1;33m\u001b[0m\u001b[0m\n\u001b[0;32m     22\u001b[0m         \u001b[0mprint\u001b[0m\u001b[1;33m(\u001b[0m\u001b[1;34m\"Performance on Economic Boom year's Data\"\u001b[0m\u001b[1;33m)\u001b[0m\u001b[1;33m\u001b[0m\u001b[0m\n\u001b[1;32m---> 23\u001b[1;33m         \u001b[0mcomputations\u001b[0m\u001b[1;33m(\u001b[0m\u001b[0mregr_rf\u001b[0m\u001b[1;33m,\u001b[0m\u001b[0mx_test1\u001b[0m\u001b[1;33m,\u001b[0m\u001b[0my_test1\u001b[0m\u001b[1;33m)\u001b[0m\u001b[1;33m\u001b[0m\u001b[0m\n\u001b[0m",
      "\u001b[1;32m<ipython-input-149-620aaf99b642>\u001b[0m in \u001b[0;36mcomputations\u001b[1;34m(org, x, y)\u001b[0m\n\u001b[0;32m      1\u001b[0m \u001b[1;32mdef\u001b[0m \u001b[0mcomputations\u001b[0m\u001b[1;33m(\u001b[0m\u001b[0morg\u001b[0m\u001b[1;33m,\u001b[0m\u001b[0mx\u001b[0m\u001b[1;33m,\u001b[0m\u001b[0my\u001b[0m\u001b[1;33m)\u001b[0m\u001b[1;33m:\u001b[0m\u001b[1;33m\u001b[0m\u001b[0m\n\u001b[1;32m----> 2\u001b[1;33m     \u001b[0mtestlr\u001b[0m\u001b[1;33m=\u001b[0m\u001b[0morg\u001b[0m\u001b[1;33m.\u001b[0m\u001b[0mpredict\u001b[0m\u001b[1;33m(\u001b[0m\u001b[0mx\u001b[0m\u001b[1;33m)\u001b[0m\u001b[1;33m\u001b[0m\u001b[0m\n\u001b[0m\u001b[0;32m      3\u001b[0m     \u001b[1;31m#Mean Absolute Error\u001b[0m\u001b[1;33m\u001b[0m\u001b[1;33m\u001b[0m\u001b[0m\n\u001b[0;32m      4\u001b[0m     \u001b[0mmae\u001b[0m\u001b[1;33m=\u001b[0m\u001b[0mmean_absolute_error\u001b[0m\u001b[1;33m(\u001b[0m\u001b[0my\u001b[0m\u001b[1;33m,\u001b[0m\u001b[0mtestlr\u001b[0m\u001b[1;33m)\u001b[0m\u001b[1;33m;\u001b[0m\u001b[1;33m\u001b[0m\u001b[0m\n\u001b[0;32m      5\u001b[0m     \u001b[0mprint\u001b[0m\u001b[1;33m(\u001b[0m\u001b[1;34m\"MAE:\"\u001b[0m\u001b[1;33m+\u001b[0m\u001b[0mstr\u001b[0m\u001b[1;33m(\u001b[0m\u001b[0mmae\u001b[0m\u001b[1;33m)\u001b[0m\u001b[1;33m)\u001b[0m\u001b[1;33m\u001b[0m\u001b[0m\n",
      "\u001b[1;32m~\\Anaconda3\\lib\\site-packages\\sklearn\\ensemble\\forest.py\u001b[0m in \u001b[0;36mpredict\u001b[1;34m(self, X)\u001b[0m\n\u001b[0;32m    686\u001b[0m         \u001b[0mcheck_is_fitted\u001b[0m\u001b[1;33m(\u001b[0m\u001b[0mself\u001b[0m\u001b[1;33m,\u001b[0m \u001b[1;34m'estimators_'\u001b[0m\u001b[1;33m)\u001b[0m\u001b[1;33m\u001b[0m\u001b[0m\n\u001b[0;32m    687\u001b[0m         \u001b[1;31m# Check data\u001b[0m\u001b[1;33m\u001b[0m\u001b[1;33m\u001b[0m\u001b[0m\n\u001b[1;32m--> 688\u001b[1;33m         \u001b[0mX\u001b[0m \u001b[1;33m=\u001b[0m \u001b[0mself\u001b[0m\u001b[1;33m.\u001b[0m\u001b[0m_validate_X_predict\u001b[0m\u001b[1;33m(\u001b[0m\u001b[0mX\u001b[0m\u001b[1;33m)\u001b[0m\u001b[1;33m\u001b[0m\u001b[0m\n\u001b[0m\u001b[0;32m    689\u001b[0m \u001b[1;33m\u001b[0m\u001b[0m\n\u001b[0;32m    690\u001b[0m         \u001b[1;31m# Assign chunk of trees to jobs\u001b[0m\u001b[1;33m\u001b[0m\u001b[1;33m\u001b[0m\u001b[0m\n",
      "\u001b[1;32m~\\Anaconda3\\lib\\site-packages\\sklearn\\ensemble\\forest.py\u001b[0m in \u001b[0;36m_validate_X_predict\u001b[1;34m(self, X)\u001b[0m\n\u001b[0;32m    360\u001b[0m                                  \"call `fit` before exploiting the model.\")\n\u001b[0;32m    361\u001b[0m \u001b[1;33m\u001b[0m\u001b[0m\n\u001b[1;32m--> 362\u001b[1;33m         \u001b[1;32mreturn\u001b[0m \u001b[0mself\u001b[0m\u001b[1;33m.\u001b[0m\u001b[0mestimators_\u001b[0m\u001b[1;33m[\u001b[0m\u001b[1;36m0\u001b[0m\u001b[1;33m]\u001b[0m\u001b[1;33m.\u001b[0m\u001b[0m_validate_X_predict\u001b[0m\u001b[1;33m(\u001b[0m\u001b[0mX\u001b[0m\u001b[1;33m,\u001b[0m \u001b[0mcheck_input\u001b[0m\u001b[1;33m=\u001b[0m\u001b[1;32mTrue\u001b[0m\u001b[1;33m)\u001b[0m\u001b[1;33m\u001b[0m\u001b[0m\n\u001b[0m\u001b[0;32m    363\u001b[0m \u001b[1;33m\u001b[0m\u001b[0m\n\u001b[0;32m    364\u001b[0m     \u001b[1;33m@\u001b[0m\u001b[0mproperty\u001b[0m\u001b[1;33m\u001b[0m\u001b[0m\n",
      "\u001b[1;32m~\\Anaconda3\\lib\\site-packages\\sklearn\\tree\\tree.py\u001b[0m in \u001b[0;36m_validate_X_predict\u001b[1;34m(self, X, check_input)\u001b[0m\n\u001b[0;32m    386\u001b[0m                              \u001b[1;34m\"match the input. Model n_features is %s and \"\u001b[0m\u001b[1;33m\u001b[0m\u001b[0m\n\u001b[0;32m    387\u001b[0m                              \u001b[1;34m\"input n_features is %s \"\u001b[0m\u001b[1;33m\u001b[0m\u001b[0m\n\u001b[1;32m--> 388\u001b[1;33m                              % (self.n_features_, n_features))\n\u001b[0m\u001b[0;32m    389\u001b[0m \u001b[1;33m\u001b[0m\u001b[0m\n\u001b[0;32m    390\u001b[0m         \u001b[1;32mreturn\u001b[0m \u001b[0mX\u001b[0m\u001b[1;33m\u001b[0m\u001b[0m\n",
      "\u001b[1;31mValueError\u001b[0m: Number of features of the model must match the input. Model n_features is 36 and input n_features is 35 "
     ]
    }
   ],
   "source": [
    "economic_boom(quarter)"
   ]
  },
  {
   "cell_type": "code",
   "execution_count": 167,
   "metadata": {},
   "outputs": [
    {
     "name": "stdout",
     "output_type": "stream",
     "text": [
      "loading saved cookies\n",
      "C:\\Users\\ritua/HistoricalInputFiles\n",
      "https://freddiemac.embs.com/FLoan/Data/download.php?f=historical_data1_Q22005&s=330868332\n",
      "--------------------------------------------------------------------------------------\n",
      "C:\\Users\\ritua/HistoricalInputFiles\n",
      "https://freddiemac.embs.com/FLoan/Data/download.php?f=historical_data1_Q42015&s=88547109\n"
     ]
    },
    {
     "name": "stderr",
     "output_type": "stream",
     "text": [
      "\n",
      "\n",
      "  0%|                                                                                            | 0/2 [00:00<?, ?it/s]\n",
      "\n",
      "Downloading https://freddiemac.embs.com/FLoan/Data/download.php?f=historical_data1_Q22005&s=330868332:   0%| | 0/2 [00:00<?, ?it/s]\n",
      "\n",
      "Downloading https://freddiemac.embs.com/FLoan/Data/download.php?f=historical_data1_Q22005&s=330868332:  50%|▌| 1/2 [01:27<01:27, 87.12s/it]\n",
      "\n",
      "Downloading https://freddiemac.embs.com/FLoan/Data/download.php?f=historical_data1_Q42015&s=88547109:  50%|▌| 1/2 [01:27<01:27, 87.12s/it] \n",
      "\n",
      "Downloading https://freddiemac.embs.com/FLoan/Data/download.php?f=historical_data1_Q42015&s=88547109: 100%|█| 2/2 [01:49<00:00, 67.67s/it]\n",
      "\n"
     ]
    },
    {
     "name": "stdout",
     "output_type": "stream",
     "text": [
      "Training Data Results:\n",
      "MAE:0.17121788655898518\n",
      "RMSE:0.22021194184315945\n",
      "Median Absolute Error:0.13979328070435226\n",
      "loading saved cookies\n",
      "C:\\Users\\ritua/HistoricalInputFiles\n",
      "https://freddiemac.embs.com/FLoan/Data/download.php?f=historical_data1_Q22005&s=330868332\n",
      "--------------------------------------------------------------------------------------\n",
      "C:\\Users\\ritua/HistoricalInputFiles\n",
      "https://freddiemac.embs.com/FLoan/Data/download.php?f=historical_data1_Q12016&s=74856005\n"
     ]
    },
    {
     "name": "stderr",
     "output_type": "stream",
     "text": [
      "\n",
      "\n",
      "  0%|                                                                                            | 0/2 [00:00<?, ?it/s]\n",
      "\n",
      "Downloading https://freddiemac.embs.com/FLoan/Data/download.php?f=historical_data1_Q22005&s=330868332:   0%| | 0/2 [00:00<?, ?it/s]"
     ]
    },
    {
     "ename": "KeyboardInterrupt",
     "evalue": "",
     "output_type": "error",
     "traceback": [
      "\u001b[1;31m---------------------------------------------------------------------------\u001b[0m",
      "\u001b[1;31mKeyboardInterrupt\u001b[0m                         Traceback (most recent call last)",
      "\u001b[1;32m<ipython-input-167-ce0182e98ac0>\u001b[0m in \u001b[0;36m<module>\u001b[1;34m()\u001b[0m\n\u001b[1;32m----> 1\u001b[1;33m \u001b[0mregime_change_election\u001b[0m\u001b[1;33m(\u001b[0m\u001b[1;33m)\u001b[0m\u001b[1;33m\u001b[0m\u001b[0m\n\u001b[0m",
      "\u001b[1;32m<ipython-input-155-6e524d24ffbf>\u001b[0m in \u001b[0;36mregime_change_election\u001b[1;34m()\u001b[0m\n\u001b[0;32m     17\u001b[0m     \u001b[0mquarter_testing\u001b[0m\u001b[1;33m=\u001b[0m\u001b[1;33m[\u001b[0m\u001b[1;34m'Q12016'\u001b[0m\u001b[1;33m,\u001b[0m\u001b[1;34m'Q42016'\u001b[0m\u001b[1;33m]\u001b[0m\u001b[1;33m\u001b[0m\u001b[0m\n\u001b[0;32m     18\u001b[0m     \u001b[1;32mfor\u001b[0m \u001b[0mqt\u001b[0m \u001b[1;32min\u001b[0m \u001b[0mquarter_testing\u001b[0m\u001b[1;33m:\u001b[0m\u001b[1;33m\u001b[0m\u001b[0m\n\u001b[1;32m---> 19\u001b[1;33m         \u001b[0mTestData1\u001b[0m\u001b[1;33m=\u001b[0m\u001b[0mtrainModel\u001b[0m\u001b[1;33m(\u001b[0m\u001b[0mqt\u001b[0m\u001b[1;33m)\u001b[0m\u001b[1;33m\u001b[0m\u001b[0m\n\u001b[0m\u001b[0;32m     20\u001b[0m         \u001b[0mTestData1\u001b[0m\u001b[1;33m=\u001b[0m\u001b[0mcheckAllReqColumns\u001b[0m\u001b[1;33m(\u001b[0m\u001b[0mTestData1\u001b[0m\u001b[1;33m)\u001b[0m\u001b[1;33m\u001b[0m\u001b[0m\n\u001b[0;32m     21\u001b[0m         \u001b[0my_test1\u001b[0m\u001b[1;33m=\u001b[0m\u001b[0mTestData1\u001b[0m\u001b[1;33m.\u001b[0m\u001b[0mint_rt\u001b[0m\u001b[1;33m\u001b[0m\u001b[0m\n",
      "\u001b[1;32m<ipython-input-139-dd0c701d68ba>\u001b[0m in \u001b[0;36mtrainModel\u001b[1;34m(year)\u001b[0m\n\u001b[0;32m     17\u001b[0m         \u001b[1;32mreturn\u001b[0m \u001b[0mHist_numeric\u001b[0m\u001b[1;33m\u001b[0m\u001b[0m\n\u001b[0;32m     18\u001b[0m     \u001b[1;32melse\u001b[0m\u001b[1;33m:\u001b[0m\u001b[1;33m\u001b[0m\u001b[0m\n\u001b[1;32m---> 19\u001b[1;33m         \u001b[0mdownload_file_for_quarter\u001b[0m\u001b[1;33m(\u001b[0m\u001b[0myear\u001b[0m\u001b[1;33m)\u001b[0m\u001b[1;33m\u001b[0m\u001b[0m\n\u001b[0m\u001b[0;32m     20\u001b[0m         \u001b[0mHist_df\u001b[0m \u001b[1;33m=\u001b[0m \u001b[0mpd\u001b[0m\u001b[1;33m.\u001b[0m\u001b[0mread_csv\u001b[0m\u001b[1;33m(\u001b[0m\u001b[0mfilename\u001b[0m \u001b[1;33m,\u001b[0m\u001b[0msep\u001b[0m\u001b[1;33m=\u001b[0m\u001b[1;34m\"|\"\u001b[0m\u001b[1;33m,\u001b[0m \u001b[0mnames\u001b[0m\u001b[1;33m=\u001b[0m\u001b[1;33m[\u001b[0m\u001b[1;34m'fico'\u001b[0m\u001b[1;33m,\u001b[0m\u001b[1;34m'dt_first_pi'\u001b[0m\u001b[1;33m,\u001b[0m\u001b[1;34m'flag_fthb'\u001b[0m\u001b[1;33m,\u001b[0m\u001b[1;34m'dt_matr'\u001b[0m\u001b[1;33m,\u001b[0m\u001b[1;34m'cd_msa'\u001b[0m\u001b[1;33m,\u001b[0m\u001b[1;34m\"mi_pct\"\u001b[0m\u001b[1;33m,\u001b[0m\u001b[1;34m'cnt_units'\u001b[0m\u001b[1;33m,\u001b[0m\u001b[1;34m'occpy_sts'\u001b[0m\u001b[1;33m,\u001b[0m\u001b[1;34m'cltv'\u001b[0m\u001b[1;33m,\u001b[0m\u001b[1;34m'dti'\u001b[0m\u001b[1;33m,\u001b[0m\u001b[1;34m'orig_upb'\u001b[0m\u001b[1;33m,\u001b[0m\u001b[1;34m'ltv'\u001b[0m\u001b[1;33m,\u001b[0m\u001b[1;34m'int_rt'\u001b[0m\u001b[1;33m,\u001b[0m\u001b[1;34m'channel'\u001b[0m\u001b[1;33m,\u001b[0m\u001b[1;34m'ppmt_pnlty'\u001b[0m\u001b[1;33m,\u001b[0m\u001b[1;34m'prod_type'\u001b[0m\u001b[1;33m,\u001b[0m\u001b[1;34m'st'\u001b[0m\u001b[1;33m,\u001b[0m \u001b[1;34m'prop_type'\u001b[0m\u001b[1;33m,\u001b[0m\u001b[1;34m'zipcode'\u001b[0m\u001b[1;33m,\u001b[0m\u001b[1;34m'id_loan'\u001b[0m\u001b[1;33m,\u001b[0m\u001b[1;34m'loan_purpose'\u001b[0m\u001b[1;33m,\u001b[0m \u001b[1;34m'orig_loan_term'\u001b[0m\u001b[1;33m,\u001b[0m\u001b[1;34m'cnt_borr'\u001b[0m\u001b[1;33m,\u001b[0m\u001b[1;34m'seller_name'\u001b[0m\u001b[1;33m,\u001b[0m\u001b[1;34m'servicer_name'\u001b[0m\u001b[1;33m,\u001b[0m\u001b[1;34m'flag_sc'\u001b[0m\u001b[1;33m]\u001b[0m\u001b[1;33m,\u001b[0m\u001b[0mskipinitialspace\u001b[0m\u001b[1;33m=\u001b[0m\u001b[1;32mTrue\u001b[0m\u001b[1;33m)\u001b[0m\u001b[1;33m\u001b[0m\u001b[0m\n\u001b[0;32m     21\u001b[0m         \u001b[0mHist_df\u001b[0m \u001b[1;33m=\u001b[0m \u001b[0mfillNAN\u001b[0m\u001b[1;33m(\u001b[0m\u001b[0mHist_df\u001b[0m\u001b[1;33m)\u001b[0m\u001b[1;33m\u001b[0m\u001b[0m\n",
      "\u001b[1;32m<ipython-input-135-767f4f9efa85>\u001b[0m in \u001b[0;36mdownload_file_for_quarter\u001b[1;34m(quarter)\u001b[0m\n\u001b[0;32m     51\u001b[0m                         \u001b[0mprint\u001b[0m\u001b[1;33m(\u001b[0m\u001b[0mfinallink\u001b[0m\u001b[1;33m)\u001b[0m\u001b[1;33m\u001b[0m\u001b[0m\n\u001b[0;32m     52\u001b[0m                         \u001b[0mhistoricaldata\u001b[0m\u001b[1;33m.\u001b[0m\u001b[0mappend\u001b[0m\u001b[1;33m(\u001b[0m\u001b[0mfinallink\u001b[0m\u001b[1;33m)\u001b[0m\u001b[1;33m\u001b[0m\u001b[0m\n\u001b[1;32m---> 53\u001b[1;33m         \u001b[0mextracrtZip\u001b[0m\u001b[1;33m(\u001b[0m\u001b[0ms\u001b[0m\u001b[1;33m,\u001b[0m\u001b[0mhistoricaldata\u001b[0m\u001b[1;33m,\u001b[0m\u001b[0mHistoricalpath\u001b[0m\u001b[1;33m)\u001b[0m\u001b[1;33m\u001b[0m\u001b[0m\n\u001b[0m\u001b[0;32m     54\u001b[0m \u001b[1;33m\u001b[0m\u001b[0m\n",
      "\u001b[1;32m<ipython-input-36-d38832530caf>\u001b[0m in \u001b[0;36mextracrtZip\u001b[1;34m(s, monthlistdata, path)\u001b[0m\n\u001b[0;32m      5\u001b[0m         \u001b[0mr\u001b[0m \u001b[1;33m=\u001b[0m \u001b[0ms\u001b[0m\u001b[1;33m.\u001b[0m\u001b[0mget\u001b[0m\u001b[1;33m(\u001b[0m\u001b[0mmonth\u001b[0m\u001b[1;33m)\u001b[0m\u001b[1;33m\u001b[0m\u001b[0m\n\u001b[0;32m      6\u001b[0m         \u001b[0mz\u001b[0m \u001b[1;33m=\u001b[0m \u001b[0mZipFile\u001b[0m\u001b[1;33m(\u001b[0m\u001b[0mBytesIO\u001b[0m\u001b[1;33m(\u001b[0m\u001b[0mr\u001b[0m\u001b[1;33m.\u001b[0m\u001b[0mcontent\u001b[0m\u001b[1;33m)\u001b[0m\u001b[1;33m)\u001b[0m\u001b[1;33m\u001b[0m\u001b[0m\n\u001b[1;32m----> 7\u001b[1;33m         \u001b[0mz\u001b[0m\u001b[1;33m.\u001b[0m\u001b[0mextractall\u001b[0m\u001b[1;33m(\u001b[0m\u001b[0mpath\u001b[0m\u001b[1;33m)\u001b[0m\u001b[1;33m\u001b[0m\u001b[0m\n\u001b[0m",
      "\u001b[1;32m~\\Anaconda3\\lib\\zipfile.py\u001b[0m in \u001b[0;36mextractall\u001b[1;34m(self, path, members, pwd)\u001b[0m\n\u001b[0;32m   1499\u001b[0m \u001b[1;33m\u001b[0m\u001b[0m\n\u001b[0;32m   1500\u001b[0m         \u001b[1;32mfor\u001b[0m \u001b[0mzipinfo\u001b[0m \u001b[1;32min\u001b[0m \u001b[0mmembers\u001b[0m\u001b[1;33m:\u001b[0m\u001b[1;33m\u001b[0m\u001b[0m\n\u001b[1;32m-> 1501\u001b[1;33m             \u001b[0mself\u001b[0m\u001b[1;33m.\u001b[0m\u001b[0m_extract_member\u001b[0m\u001b[1;33m(\u001b[0m\u001b[0mzipinfo\u001b[0m\u001b[1;33m,\u001b[0m \u001b[0mpath\u001b[0m\u001b[1;33m,\u001b[0m \u001b[0mpwd\u001b[0m\u001b[1;33m)\u001b[0m\u001b[1;33m\u001b[0m\u001b[0m\n\u001b[0m\u001b[0;32m   1502\u001b[0m \u001b[1;33m\u001b[0m\u001b[0m\n\u001b[0;32m   1503\u001b[0m     \u001b[1;33m@\u001b[0m\u001b[0mclassmethod\u001b[0m\u001b[1;33m\u001b[0m\u001b[0m\n",
      "\u001b[1;32m~\\Anaconda3\\lib\\zipfile.py\u001b[0m in \u001b[0;36m_extract_member\u001b[1;34m(self, member, targetpath, pwd)\u001b[0m\n\u001b[0;32m   1554\u001b[0m         \u001b[1;32mwith\u001b[0m \u001b[0mself\u001b[0m\u001b[1;33m.\u001b[0m\u001b[0mopen\u001b[0m\u001b[1;33m(\u001b[0m\u001b[0mmember\u001b[0m\u001b[1;33m,\u001b[0m \u001b[0mpwd\u001b[0m\u001b[1;33m=\u001b[0m\u001b[0mpwd\u001b[0m\u001b[1;33m)\u001b[0m \u001b[1;32mas\u001b[0m \u001b[0msource\u001b[0m\u001b[1;33m,\u001b[0m\u001b[0;31m \u001b[0m\u001b[0;31m\\\u001b[0m\u001b[1;33m\u001b[0m\u001b[0m\n\u001b[0;32m   1555\u001b[0m              \u001b[0mopen\u001b[0m\u001b[1;33m(\u001b[0m\u001b[0mtargetpath\u001b[0m\u001b[1;33m,\u001b[0m \u001b[1;34m\"wb\"\u001b[0m\u001b[1;33m)\u001b[0m \u001b[1;32mas\u001b[0m \u001b[0mtarget\u001b[0m\u001b[1;33m:\u001b[0m\u001b[1;33m\u001b[0m\u001b[0m\n\u001b[1;32m-> 1556\u001b[1;33m             \u001b[0mshutil\u001b[0m\u001b[1;33m.\u001b[0m\u001b[0mcopyfileobj\u001b[0m\u001b[1;33m(\u001b[0m\u001b[0msource\u001b[0m\u001b[1;33m,\u001b[0m \u001b[0mtarget\u001b[0m\u001b[1;33m)\u001b[0m\u001b[1;33m\u001b[0m\u001b[0m\n\u001b[0m\u001b[0;32m   1557\u001b[0m \u001b[1;33m\u001b[0m\u001b[0m\n\u001b[0;32m   1558\u001b[0m         \u001b[1;32mreturn\u001b[0m \u001b[0mtargetpath\u001b[0m\u001b[1;33m\u001b[0m\u001b[0m\n",
      "\u001b[1;32m~\\Anaconda3\\lib\\shutil.py\u001b[0m in \u001b[0;36mcopyfileobj\u001b[1;34m(fsrc, fdst, length)\u001b[0m\n\u001b[0;32m     77\u001b[0m     \u001b[1;34m\"\"\"copy data from file-like object fsrc to file-like object fdst\"\"\"\u001b[0m\u001b[1;33m\u001b[0m\u001b[0m\n\u001b[0;32m     78\u001b[0m     \u001b[1;32mwhile\u001b[0m \u001b[1;36m1\u001b[0m\u001b[1;33m:\u001b[0m\u001b[1;33m\u001b[0m\u001b[0m\n\u001b[1;32m---> 79\u001b[1;33m         \u001b[0mbuf\u001b[0m \u001b[1;33m=\u001b[0m \u001b[0mfsrc\u001b[0m\u001b[1;33m.\u001b[0m\u001b[0mread\u001b[0m\u001b[1;33m(\u001b[0m\u001b[0mlength\u001b[0m\u001b[1;33m)\u001b[0m\u001b[1;33m\u001b[0m\u001b[0m\n\u001b[0m\u001b[0;32m     80\u001b[0m         \u001b[1;32mif\u001b[0m \u001b[1;32mnot\u001b[0m \u001b[0mbuf\u001b[0m\u001b[1;33m:\u001b[0m\u001b[1;33m\u001b[0m\u001b[0m\n\u001b[0;32m     81\u001b[0m             \u001b[1;32mbreak\u001b[0m\u001b[1;33m\u001b[0m\u001b[0m\n",
      "\u001b[1;32m~\\Anaconda3\\lib\\zipfile.py\u001b[0m in \u001b[0;36mread\u001b[1;34m(self, n)\u001b[0m\n\u001b[0;32m    847\u001b[0m         \u001b[0mself\u001b[0m\u001b[1;33m.\u001b[0m\u001b[0m_offset\u001b[0m \u001b[1;33m=\u001b[0m \u001b[1;36m0\u001b[0m\u001b[1;33m\u001b[0m\u001b[0m\n\u001b[0;32m    848\u001b[0m         \u001b[1;32mwhile\u001b[0m \u001b[0mn\u001b[0m \u001b[1;33m>\u001b[0m \u001b[1;36m0\u001b[0m \u001b[1;32mand\u001b[0m \u001b[1;32mnot\u001b[0m \u001b[0mself\u001b[0m\u001b[1;33m.\u001b[0m\u001b[0m_eof\u001b[0m\u001b[1;33m:\u001b[0m\u001b[1;33m\u001b[0m\u001b[0m\n\u001b[1;32m--> 849\u001b[1;33m             \u001b[0mdata\u001b[0m \u001b[1;33m=\u001b[0m \u001b[0mself\u001b[0m\u001b[1;33m.\u001b[0m\u001b[0m_read1\u001b[0m\u001b[1;33m(\u001b[0m\u001b[0mn\u001b[0m\u001b[1;33m)\u001b[0m\u001b[1;33m\u001b[0m\u001b[0m\n\u001b[0m\u001b[0;32m    850\u001b[0m             \u001b[1;32mif\u001b[0m \u001b[0mn\u001b[0m \u001b[1;33m<\u001b[0m \u001b[0mlen\u001b[0m\u001b[1;33m(\u001b[0m\u001b[0mdata\u001b[0m\u001b[1;33m)\u001b[0m\u001b[1;33m:\u001b[0m\u001b[1;33m\u001b[0m\u001b[0m\n\u001b[0;32m    851\u001b[0m                 \u001b[0mself\u001b[0m\u001b[1;33m.\u001b[0m\u001b[0m_readbuffer\u001b[0m \u001b[1;33m=\u001b[0m \u001b[0mdata\u001b[0m\u001b[1;33m\u001b[0m\u001b[0m\n",
      "\u001b[1;32m~\\Anaconda3\\lib\\zipfile.py\u001b[0m in \u001b[0;36m_read1\u001b[1;34m(self, n)\u001b[0m\n\u001b[0;32m    923\u001b[0m         \u001b[1;32melif\u001b[0m \u001b[0mself\u001b[0m\u001b[1;33m.\u001b[0m\u001b[0m_compress_type\u001b[0m \u001b[1;33m==\u001b[0m \u001b[0mZIP_DEFLATED\u001b[0m\u001b[1;33m:\u001b[0m\u001b[1;33m\u001b[0m\u001b[0m\n\u001b[0;32m    924\u001b[0m             \u001b[0mn\u001b[0m \u001b[1;33m=\u001b[0m \u001b[0mmax\u001b[0m\u001b[1;33m(\u001b[0m\u001b[0mn\u001b[0m\u001b[1;33m,\u001b[0m \u001b[0mself\u001b[0m\u001b[1;33m.\u001b[0m\u001b[0mMIN_READ_SIZE\u001b[0m\u001b[1;33m)\u001b[0m\u001b[1;33m\u001b[0m\u001b[0m\n\u001b[1;32m--> 925\u001b[1;33m             \u001b[0mdata\u001b[0m \u001b[1;33m=\u001b[0m \u001b[0mself\u001b[0m\u001b[1;33m.\u001b[0m\u001b[0m_decompressor\u001b[0m\u001b[1;33m.\u001b[0m\u001b[0mdecompress\u001b[0m\u001b[1;33m(\u001b[0m\u001b[0mdata\u001b[0m\u001b[1;33m,\u001b[0m \u001b[0mn\u001b[0m\u001b[1;33m)\u001b[0m\u001b[1;33m\u001b[0m\u001b[0m\n\u001b[0m\u001b[0;32m    926\u001b[0m             self._eof = (self._decompressor.eof or\n\u001b[0;32m    927\u001b[0m                          \u001b[0mself\u001b[0m\u001b[1;33m.\u001b[0m\u001b[0m_compress_left\u001b[0m \u001b[1;33m<=\u001b[0m \u001b[1;36m0\u001b[0m \u001b[1;32mand\u001b[0m\u001b[1;33m\u001b[0m\u001b[0m\n",
      "\u001b[1;31mKeyboardInterrupt\u001b[0m: "
     ]
    }
   ],
   "source": [
    "regime_change_election()"
   ]
  },
  {
   "cell_type": "code",
   "execution_count": null,
   "metadata": {},
   "outputs": [],
   "source": []
  }
 ],
 "metadata": {
  "kernelspec": {
   "display_name": "Python 3",
   "language": "python",
   "name": "python3"
  },
  "language_info": {
   "codemirror_mode": {
    "name": "ipython",
    "version": 3
   },
   "file_extension": ".py",
   "mimetype": "text/x-python",
   "name": "python",
   "nbconvert_exporter": "python",
   "pygments_lexer": "ipython3",
   "version": "3.6.4"
  }
 },
 "nbformat": 4,
 "nbformat_minor": 2
}
